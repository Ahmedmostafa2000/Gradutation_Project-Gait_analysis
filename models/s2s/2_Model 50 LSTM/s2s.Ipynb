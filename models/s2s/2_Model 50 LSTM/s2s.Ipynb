{
 "cells": [
  {
   "cell_type": "code",
   "execution_count": 1,
   "metadata": {},
   "outputs": [],
   "source": [
    "import pandas as pd\n",
    "import numpy as np\n",
    "import tensorflow as tf\n",
    "import matplotlib.pyplot as plt"
   ]
  },
  {
   "cell_type": "code",
   "execution_count": 2,
   "metadata": {},
   "outputs": [],
   "source": [
    "df = pd.read_csv('D:\\\\Career\\\\GradProj\\\\New deal\\\\Dataset\\\\parkinson_data.csv')\n",
    "df.drop('Unnamed: 0', axis = 1,inplace=True)\n",
    "\n",
    "df.columns = ['Time',\n",
    " 'AccV',\n",
    " 'AccML',\n",
    " 'AccAP',\n",
    " 'StartHesitation',\n",
    " 'Turn',\n",
    " 'Walking',\n",
    " 'idx',\n",
    " 'ID',\n",
    " 'len_df']"
   ]
  },
  {
   "cell_type": "code",
   "execution_count": 3,
   "metadata": {},
   "outputs": [],
   "source": [
    "df_bu = df.copy()"
   ]
  },
  {
   "cell_type": "code",
   "execution_count": 4,
   "metadata": {},
   "outputs": [],
   "source": [
    "\n",
    "\n",
    "df['class'] = np.array(df['Walking'] | df['StartHesitation'] | df['Turn'],dtype = int)\n",
    "df[['normal','fog']] = pd.get_dummies(df['class'], prefix='class')\n",
    "\n",
    "\n",
    "# Compute the mean and standard deviation of the dataset\n",
    "data = np.asarray(df[['AccV','AccML','AccAP']] , dtype = np.float64)\n",
    "mean = np.mean(data, axis=0)\n",
    "std = np.std(data, axis=0)\n",
    "\n",
    "df[['AccV','AccML','AccAP']] = abs((data - mean) / std)"
   ]
  },
  {
   "cell_type": "code",
   "execution_count": 5,
   "metadata": {},
   "outputs": [
    {
     "data": {
      "text/plain": [
       "<AxesSubplot:>"
      ]
     },
     "execution_count": 5,
     "metadata": {},
     "output_type": "execute_result"
    },
    {
     "data": {
      "image/png": "[encoded data removed]",
      "text/plain": [
       "<Figure size 432x288 with 1 Axes>"
      ]
     },
     "metadata": {
      "needs_background": "light"
     },
     "output_type": "display_data"
    }
   ],
   "source": [
    "df[['AccV','AccML','AccAP']][0:128].plot()"
   ]
  },
  {
   "cell_type": "code",
   "execution_count": 6,
   "metadata": {},
   "outputs": [],
   "source": [
    "x_win = []\n",
    "y_win = []\n",
    "\n",
    "x = df[['AccV','AccML','AccAP']]\n",
    "y = df[['fog','normal']]\n",
    "\n",
    "for i in range(0,len(df)-len(df)%1500,750):\n",
    "    x_win.append(x[i:i+1500])\n",
    "    y_win.append(y[i:i+1500])\n",
    "    \n",
    "x_win.pop()\n",
    "y_win.pop()\n",
    "x_win = np.asarray(x_win,dtype = np.float32)\n",
    "y_win = np.asarray(y_win,dtype = int)"
   ]
  },
  {
   "cell_type": "code",
   "execution_count": 7,
   "metadata": {},
   "outputs": [],
   "source": [
    "from scipy import stats\n",
    "y_win_s2l = []\n",
    "for i in y_win:\n",
    "    y_win_s2l.append(stats.mode(i)[0][0])\n",
    "y_win_s2l = np.asarray(y_win_s2l,dtype = int)"
   ]
  },
  {
   "cell_type": "code",
   "execution_count": 8,
   "metadata": {},
   "outputs": [
    {
     "data": {
      "text/plain": [
       "((9415, 1500, 2), (9415, 2))"
      ]
     },
     "execution_count": 8,
     "metadata": {},
     "output_type": "execute_result"
    }
   ],
   "source": [
    "y_win.shape, y_win_s2l.shape"
   ]
  },
  {
   "cell_type": "code",
   "execution_count": 9,
   "metadata": {},
   "outputs": [],
   "source": [
    "x_win_aug = []\n",
    "y_win_aug = []\n",
    "for i in range(len(y_win)):\n",
    "    x_win_aug.append(x_win[i])\n",
    "    y_win_aug.append(y_win[i])\n",
    "    \n",
    "    if y_win_s2l[i,0]==1:\n",
    "        x_win_aug.append(x_win[i])\n",
    "        y_win_aug.append(y_win[i])\n",
    "x_win_aug = np.asarray(x_win_aug,dtype = np.float32)\n",
    "y_win_aug = np.asarray(y_win_aug,dtype = int)"
   ]
  },
  {
   "cell_type": "code",
   "execution_count": 10,
   "metadata": {},
   "outputs": [],
   "source": [
    "# Importing Layers\n",
    "from tensorflow.keras import Sequential\n",
    "from tensorflow.keras.layers import LSTM,Dropout,Dense,BatchNormalization,Input,Bidirectional,Conv1D,MaxPooling1D,Flatten\n",
    "from tensorflow.keras import regularizers\n",
    "from sklearn.model_selection import train_test_split"
   ]
  },
  {
   "cell_type": "code",
   "execution_count": 11,
   "metadata": {},
   "outputs": [],
   "source": [
    "class CustomCallback(tf.keras.callbacks.Callback):\n",
    "    def on_epoch_end(self, epoch, logs=None):\n",
    "        \n",
    "        print(' - lr:',model.optimizer._decayed_lr(tf.float32).numpy())"
   ]
  },
  {
   "cell_type": "code",
   "execution_count": 12,
   "metadata": {},
   "outputs": [],
   "source": [
    "from sklearn.model_selection import KFold\n",
    "kfold = KFold(n_splits=5, shuffle=False)\n",
    "models = []\n",
    "evals = []\n",
    "k = 0\n",
    "rlr = tf.keras.optimizers.schedules.ExponentialDecay(initial_learning_rate = 0.0005,decay_steps=35,decay_rate=0.96,staircase=True)"
   ]
  },
  {
   "cell_type": "code",
   "execution_count": 13,
   "metadata": {},
   "outputs": [],
   "source": [
    "for train, test in kfold.split(x_win_aug, y_win_aug):\n",
    "    x_train, x_val, y_train, y_val = train_test_split(x_win_aug[train], y_win_aug[train], test_size=0.10)\n",
    "\n",
    "    model = Sequential([\n",
    "        LSTM(50, kernel_regularizer=regularizers.L1L2(l1=1e-5, l2=1e-4), bias_regularizer=regularizers.L2(1e-4), input_shape=(1500,3), return_sequences = True ),\n",
    "        Dropout(0.2),\n",
    "\n",
    "        Dense(2, activation = 'softmax') \n",
    "    ])\n",
    "    \n",
    "    model.compile(  optimizer = tf.keras.optimizers.Adam(learning_rate = rlr),#, clipvalue=0.5),\n",
    "                    loss='categorical_crossentropy', \n",
    "                    metrics=['accuracy'],\n",
    "                    )\n",
    "\n",
    "    \n",
    "    earlystop = tf.keras.callbacks.EarlyStopping(monitor='accuracy', patience=20)\n",
    "    checkpointer = tf.keras.callbacks.ModelCheckpoint(filepath=f'best_{k}.hdf5', verbose=0, save_best_only=True,monitor='val_accuracy',mode='max')\n",
    "    csv_logger = tf.keras.callbacks.CSVLogger(f\"history_log_{k}.csv\")\n",
    "\n",
    "    model.fit(x_train, y_train, batch_size = 256, epochs = 500, callbacks = [earlystop,checkpointer,csv_logger,CustomCallback()],validation_data=(x_val,y_val))\n",
    "    model = tf.keras.models.load_model(f'best_{k}.hdf5')\n",
    "    models.append(model)\n",
    "    evals.append(model.evaluate(x_win_aug[test],y_win_aug[test]))\n",
    "    \n",
    "    k+=1"
   ]
  },
  {
   "cell_type": "code",
   "execution_count": 14,
   "metadata": {},
   "outputs": [
    {
     "name": "stderr",
     "output_type": "stream",
     "text": [
      "c:\\ProgramData\\Anaconda3\\lib\\site-packages\\tensorflow_addons\\utils\\tfa_eol_msg.py:23: UserWarning: \n",
      "\n",
      "TensorFlow Addons (TFA) has ended development and introduction of new features.\n",
      "TFA has entered a minimal maintenance and release mode until a planned end of life in May 2024.\n",
      "Please modify downstream libraries to take dependencies from other repositories in our TensorFlow community (e.g. Keras, Keras-CV, and Keras-NLP). \n",
      "\n",
      "For more information see: https://github.com/tensorflow/addons/issues/2807 \n",
      "\n",
      "  warnings.warn(\n"
     ]
    },
    {
     "name": "stdout",
     "output_type": "stream",
     "text": [
      "77/77 [==============================] - 11s 83ms/step\n",
      "77/77 [==============================] - 7s 82ms/step\n",
      "77/77 [==============================] - 6s 78ms/step\n",
      "77/77 [==============================] - 6s 78ms/step\n",
      "77/77 [==============================] - 6s 78ms/step\n"
     ]
    }
   ],
   "source": [
    "import tensorflow_addons as tfa\n",
    "# x_win_aug[test],y_win_s2l_aug[test]\n",
    "f1 = []\n",
    "recalls = []\n",
    "precisions = []\n",
    "k = 0\n",
    "kfold = KFold(n_splits=5, shuffle=False)\n",
    "for train, test in kfold.split(x_win_aug, y_win_aug):\n",
    "    model = tf.keras.models.load_model(f'best_{k}.hdf5')\n",
    "    metric = tfa.metrics.F1Score(num_classes=2,threshold=0.5)\n",
    "\n",
    "    y_true = y_win_aug[test]\n",
    "    y_pred = model.predict(x_win_aug[test])\n",
    "\n",
    "    recall = tf.keras.metrics.Recall()\n",
    "    recall.update_state(y_true, y_pred)\n",
    "    recalls.append(recall.result().numpy())\n",
    "    \n",
    "    precision = tf.keras.metrics.Precision()\n",
    "    precision.update_state(y_true, y_pred)\n",
    "    precisions.append(precision.result().numpy())\n",
    "    k+=1\n",
    "f1 = 2 * (np.array(precisions) * np.array(recalls)) / (np.array(precisions) + np.array(recalls))"
   ]
  },
  {
   "cell_type": "code",
   "execution_count": 15,
   "metadata": {},
   "outputs": [],
   "source": [
    "import pickle\n",
    "# file1 = open('evaluations', 'wb')\n",
    "# file2 = open('models', 'wb')\n",
    "file3 = open('scores', 'wb')\n",
    "# pickle.dump(evals, file1)\n",
    "# pickle.dump(models, file2)\n",
    "pickle.dump([f1,recalls,precisions], file3)\n",
    "# file1.close()\n",
    "# file2.close()\n",
    "file3.close()"
   ]
  },
  {
   "cell_type": "code",
   "execution_count": null,
   "metadata": {},
   "outputs": [],
   "source": []
  }
 ],
 "metadata": {
  "kernelspec": {
   "display_name": "Python 3.9.7 ('base')",
   "language": "python",
   "name": "python3"
  },
  "language_info": {
   "codemirror_mode": {
    "name": "ipython",
    "version": 3
   },
   "file_extension": ".py",
   "mimetype": "text/x-python",
   "name": "python",
   "nbconvert_exporter": "python",
   "pygments_lexer": "ipython3",
   "version": "3.9.7"
  },
  "orig_nbformat": 4,
  "vscode": {
   "interpreter": {
    "hash": "ad2bdc8ecc057115af97d19610ffacc2b4e99fae6737bb82f5d7fb13d2f2c186"
   }
  }
 },
 "nbformat": 4,
 "nbformat_minor": 2
}
