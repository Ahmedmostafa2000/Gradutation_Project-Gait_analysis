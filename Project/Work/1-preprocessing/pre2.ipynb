{
 "cells": [
  {
   "cell_type": "code",
   "execution_count": 1,
   "metadata": {},
   "outputs": [],
   "source": [
    "import pandas as pd\n",
    "import numpy as np\n",
    "import matplotlib.pyplot as plt\n",
    "arr = np.array"
   ]
  },
  {
   "cell_type": "code",
   "execution_count": 2,
   "metadata": {},
   "outputs": [],
   "source": [
    "df = pd.read_csv('D:\\\\Career\\\\GradProj\\\\Datasets\\\\dataset.csv')"
   ]
  },
  {
   "cell_type": "code",
   "execution_count": 3,
   "metadata": {},
   "outputs": [
    {
     "data": {
      "text/plain": [
       "(88693, 20)"
      ]
     },
     "execution_count": 3,
     "metadata": {},
     "output_type": "execute_result"
    }
   ],
   "source": [
    "df.shape"
   ]
  },
  {
   "cell_type": "code",
   "execution_count": 4,
   "metadata": {},
   "outputs": [],
   "source": [
    "df.drop(['Unnamed: 0.1', 'Unnamed: 0'],axis = 1,inplace = True)"
   ]
  },
  {
   "cell_type": "code",
   "execution_count": 5,
   "metadata": {},
   "outputs": [],
   "source": [
    "df = df.dropna().reset_index()\n",
    "df.drop('index',axis = 1,inplace = True)"
   ]
  },
  {
   "cell_type": "code",
   "execution_count": 10,
   "metadata": {},
   "outputs": [
    {
     "data": {
      "text/html": [
       "<div>\n",
       "<style scoped>\n",
       "    .dataframe tbody tr th:only-of-type {\n",
       "        vertical-align: middle;\n",
       "    }\n",
       "\n",
       "    .dataframe tbody tr th {\n",
       "        vertical-align: top;\n",
       "    }\n",
       "\n",
       "    .dataframe thead th {\n",
       "        text-align: right;\n",
       "    }\n",
       "</style>\n",
       "<table border=\"1\" class=\"dataframe\">\n",
       "  <thead>\n",
       "    <tr style=\"text-align: right;\">\n",
       "      <th></th>\n",
       "      <th>0</th>\n",
       "      <th>1</th>\n",
       "      <th>2</th>\n",
       "      <th>3</th>\n",
       "      <th>4</th>\n",
       "      <th>5</th>\n",
       "      <th>6</th>\n",
       "      <th>7</th>\n",
       "      <th>8</th>\n",
       "      <th>9</th>\n",
       "      <th>10</th>\n",
       "      <th>11</th>\n",
       "      <th>12</th>\n",
       "      <th>13</th>\n",
       "      <th>14</th>\n",
       "      <th>15</th>\n",
       "      <th>16</th>\n",
       "      <th>17</th>\n",
       "    </tr>\n",
       "  </thead>\n",
       "  <tbody>\n",
       "    <tr>\n",
       "      <th>0</th>\n",
       "      <td>0.704927</td>\n",
       "      <td>0.530173</td>\n",
       "      <td>-0.136847</td>\n",
       "      <td>0.706448</td>\n",
       "      <td>0.524994</td>\n",
       "      <td>0.136742</td>\n",
       "      <td>0.756850</td>\n",
       "      <td>0.682062</td>\n",
       "      <td>-0.114798</td>\n",
       "      <td>0.666051</td>\n",
       "      <td>0.673181</td>\n",
       "      <td>0.238546</td>\n",
       "      <td>0.839742</td>\n",
       "      <td>0.829800</td>\n",
       "      <td>-0.030294</td>\n",
       "      <td>0.640990</td>\n",
       "      <td>0.825523</td>\n",
       "      <td>0.372157</td>\n",
       "    </tr>\n",
       "    <tr>\n",
       "      <th>1</th>\n",
       "      <td>0.673152</td>\n",
       "      <td>0.530154</td>\n",
       "      <td>-0.139910</td>\n",
       "      <td>0.677159</td>\n",
       "      <td>0.524972</td>\n",
       "      <td>0.139808</td>\n",
       "      <td>0.718503</td>\n",
       "      <td>0.682422</td>\n",
       "      <td>-0.124201</td>\n",
       "      <td>0.638025</td>\n",
       "      <td>0.673813</td>\n",
       "      <td>0.245217</td>\n",
       "      <td>0.817662</td>\n",
       "      <td>0.810017</td>\n",
       "      <td>-0.047614</td>\n",
       "      <td>0.617928</td>\n",
       "      <td>0.826580</td>\n",
       "      <td>0.389650</td>\n",
       "    </tr>\n",
       "    <tr>\n",
       "      <th>2</th>\n",
       "      <td>0.644610</td>\n",
       "      <td>0.528752</td>\n",
       "      <td>-0.137934</td>\n",
       "      <td>0.646534</td>\n",
       "      <td>0.525845</td>\n",
       "      <td>0.137859</td>\n",
       "      <td>0.677682</td>\n",
       "      <td>0.682788</td>\n",
       "      <td>-0.126164</td>\n",
       "      <td>0.629151</td>\n",
       "      <td>0.676099</td>\n",
       "      <td>0.244487</td>\n",
       "      <td>0.786732</td>\n",
       "      <td>0.799885</td>\n",
       "      <td>-0.041978</td>\n",
       "      <td>0.611187</td>\n",
       "      <td>0.832782</td>\n",
       "      <td>0.384749</td>\n",
       "    </tr>\n",
       "    <tr>\n",
       "      <th>3</th>\n",
       "      <td>0.622132</td>\n",
       "      <td>0.528377</td>\n",
       "      <td>-0.141947</td>\n",
       "      <td>0.625008</td>\n",
       "      <td>0.524248</td>\n",
       "      <td>0.141913</td>\n",
       "      <td>0.628686</td>\n",
       "      <td>0.674487</td>\n",
       "      <td>-0.151090</td>\n",
       "      <td>0.602273</td>\n",
       "      <td>0.674363</td>\n",
       "      <td>0.215959</td>\n",
       "      <td>0.741854</td>\n",
       "      <td>0.793049</td>\n",
       "      <td>-0.066140</td>\n",
       "      <td>0.605063</td>\n",
       "      <td>0.832487</td>\n",
       "      <td>0.304020</td>\n",
       "    </tr>\n",
       "    <tr>\n",
       "      <th>4</th>\n",
       "      <td>0.597257</td>\n",
       "      <td>0.526522</td>\n",
       "      <td>-0.144997</td>\n",
       "      <td>0.595668</td>\n",
       "      <td>0.523940</td>\n",
       "      <td>0.144902</td>\n",
       "      <td>0.570156</td>\n",
       "      <td>0.675358</td>\n",
       "      <td>-0.166038</td>\n",
       "      <td>0.576992</td>\n",
       "      <td>0.675528</td>\n",
       "      <td>0.178953</td>\n",
       "      <td>0.697697</td>\n",
       "      <td>0.791463</td>\n",
       "      <td>-0.108242</td>\n",
       "      <td>0.606192</td>\n",
       "      <td>0.831838</td>\n",
       "      <td>0.247406</td>\n",
       "    </tr>\n",
       "    <tr>\n",
       "      <th>5</th>\n",
       "      <td>0.570136</td>\n",
       "      <td>0.527719</td>\n",
       "      <td>-0.149247</td>\n",
       "      <td>0.569454</td>\n",
       "      <td>0.524723</td>\n",
       "      <td>0.149134</td>\n",
       "      <td>0.539600</td>\n",
       "      <td>0.681754</td>\n",
       "      <td>-0.139710</td>\n",
       "      <td>0.548819</td>\n",
       "      <td>0.676372</td>\n",
       "      <td>0.208947</td>\n",
       "      <td>0.631696</td>\n",
       "      <td>0.795609</td>\n",
       "      <td>-0.057228</td>\n",
       "      <td>0.600122</td>\n",
       "      <td>0.815949</td>\n",
       "      <td>0.260941</td>\n",
       "    </tr>\n",
       "    <tr>\n",
       "      <th>6</th>\n",
       "      <td>0.544708</td>\n",
       "      <td>0.524995</td>\n",
       "      <td>-0.148861</td>\n",
       "      <td>0.545362</td>\n",
       "      <td>0.523166</td>\n",
       "      <td>0.148713</td>\n",
       "      <td>0.523627</td>\n",
       "      <td>0.682245</td>\n",
       "      <td>-0.131222</td>\n",
       "      <td>0.534369</td>\n",
       "      <td>0.672345</td>\n",
       "      <td>0.166379</td>\n",
       "      <td>0.597614</td>\n",
       "      <td>0.821552</td>\n",
       "      <td>-0.053636</td>\n",
       "      <td>0.590724</td>\n",
       "      <td>0.810231</td>\n",
       "      <td>0.277665</td>\n",
       "    </tr>\n",
       "    <tr>\n",
       "      <th>7</th>\n",
       "      <td>0.514398</td>\n",
       "      <td>0.516424</td>\n",
       "      <td>-0.141895</td>\n",
       "      <td>0.522713</td>\n",
       "      <td>0.513260</td>\n",
       "      <td>0.141932</td>\n",
       "      <td>0.464593</td>\n",
       "      <td>0.662100</td>\n",
       "      <td>-0.110419</td>\n",
       "      <td>0.528030</td>\n",
       "      <td>0.665599</td>\n",
       "      <td>0.178605</td>\n",
       "      <td>0.530250</td>\n",
       "      <td>0.819537</td>\n",
       "      <td>-0.025325</td>\n",
       "      <td>0.584541</td>\n",
       "      <td>0.811934</td>\n",
       "      <td>0.249038</td>\n",
       "    </tr>\n",
       "    <tr>\n",
       "      <th>8</th>\n",
       "      <td>0.485516</td>\n",
       "      <td>0.512621</td>\n",
       "      <td>-0.131215</td>\n",
       "      <td>0.491660</td>\n",
       "      <td>0.506423</td>\n",
       "      <td>0.131291</td>\n",
       "      <td>0.431896</td>\n",
       "      <td>0.648200</td>\n",
       "      <td>-0.049882</td>\n",
       "      <td>0.518233</td>\n",
       "      <td>0.665618</td>\n",
       "      <td>0.178576</td>\n",
       "      <td>0.466644</td>\n",
       "      <td>0.814434</td>\n",
       "      <td>0.057272</td>\n",
       "      <td>0.584867</td>\n",
       "      <td>0.809479</td>\n",
       "      <td>0.242678</td>\n",
       "    </tr>\n",
       "    <tr>\n",
       "      <th>9</th>\n",
       "      <td>0.453036</td>\n",
       "      <td>0.502849</td>\n",
       "      <td>-0.128963</td>\n",
       "      <td>0.466421</td>\n",
       "      <td>0.498207</td>\n",
       "      <td>0.129042</td>\n",
       "      <td>0.412111</td>\n",
       "      <td>0.650973</td>\n",
       "      <td>-0.042204</td>\n",
       "      <td>0.507214</td>\n",
       "      <td>0.656372</td>\n",
       "      <td>0.189039</td>\n",
       "      <td>0.412023</td>\n",
       "      <td>0.814633</td>\n",
       "      <td>0.050062</td>\n",
       "      <td>0.573322</td>\n",
       "      <td>0.795653</td>\n",
       "      <td>0.261995</td>\n",
       "    </tr>\n",
       "  </tbody>\n",
       "</table>\n",
       "</div>"
      ],
      "text/plain": [
       "          0         1         2         3         4         5         6  \\\n",
       "0  0.704927  0.530173 -0.136847  0.706448  0.524994  0.136742  0.756850   \n",
       "1  0.673152  0.530154 -0.139910  0.677159  0.524972  0.139808  0.718503   \n",
       "2  0.644610  0.528752 -0.137934  0.646534  0.525845  0.137859  0.677682   \n",
       "3  0.622132  0.528377 -0.141947  0.625008  0.524248  0.141913  0.628686   \n",
       "4  0.597257  0.526522 -0.144997  0.595668  0.523940  0.144902  0.570156   \n",
       "5  0.570136  0.527719 -0.149247  0.569454  0.524723  0.149134  0.539600   \n",
       "6  0.544708  0.524995 -0.148861  0.545362  0.523166  0.148713  0.523627   \n",
       "7  0.514398  0.516424 -0.141895  0.522713  0.513260  0.141932  0.464593   \n",
       "8  0.485516  0.512621 -0.131215  0.491660  0.506423  0.131291  0.431896   \n",
       "9  0.453036  0.502849 -0.128963  0.466421  0.498207  0.129042  0.412111   \n",
       "\n",
       "          7         8         9        10        11        12        13  \\\n",
       "0  0.682062 -0.114798  0.666051  0.673181  0.238546  0.839742  0.829800   \n",
       "1  0.682422 -0.124201  0.638025  0.673813  0.245217  0.817662  0.810017   \n",
       "2  0.682788 -0.126164  0.629151  0.676099  0.244487  0.786732  0.799885   \n",
       "3  0.674487 -0.151090  0.602273  0.674363  0.215959  0.741854  0.793049   \n",
       "4  0.675358 -0.166038  0.576992  0.675528  0.178953  0.697697  0.791463   \n",
       "5  0.681754 -0.139710  0.548819  0.676372  0.208947  0.631696  0.795609   \n",
       "6  0.682245 -0.131222  0.534369  0.672345  0.166379  0.597614  0.821552   \n",
       "7  0.662100 -0.110419  0.528030  0.665599  0.178605  0.530250  0.819537   \n",
       "8  0.648200 -0.049882  0.518233  0.665618  0.178576  0.466644  0.814434   \n",
       "9  0.650973 -0.042204  0.507214  0.656372  0.189039  0.412023  0.814633   \n",
       "\n",
       "         14        15        16        17  \n",
       "0 -0.030294  0.640990  0.825523  0.372157  \n",
       "1 -0.047614  0.617928  0.826580  0.389650  \n",
       "2 -0.041978  0.611187  0.832782  0.384749  \n",
       "3 -0.066140  0.605063  0.832487  0.304020  \n",
       "4 -0.108242  0.606192  0.831838  0.247406  \n",
       "5 -0.057228  0.600122  0.815949  0.260941  \n",
       "6 -0.053636  0.590724  0.810231  0.277665  \n",
       "7 -0.025325  0.584541  0.811934  0.249038  \n",
       "8  0.057272  0.584867  0.809479  0.242678  \n",
       "9  0.050062  0.573322  0.795653  0.261995  "
      ]
     },
     "execution_count": 10,
     "metadata": {},
     "output_type": "execute_result"
    }
   ],
   "source": [
    "df[0:10]"
   ]
  },
  {
   "cell_type": "code",
   "execution_count": 6,
   "metadata": {},
   "outputs": [],
   "source": [
    "df = pd.concat([df,df.diff(),df.diff().diff()],axis = 1)"
   ]
  },
  {
   "cell_type": "code",
   "execution_count": 7,
   "metadata": {},
   "outputs": [
    {
     "data": {
      "text/plain": [
       "(56743, 54)"
      ]
     },
     "execution_count": 7,
     "metadata": {},
     "output_type": "execute_result"
    }
   ],
   "source": [
    "df.shape"
   ]
  },
  {
   "cell_type": "code",
   "execution_count": 8,
   "metadata": {},
   "outputs": [
    {
     "name": "stdout",
     "output_type": "stream",
     "text": [
      "['23 x', '23 y', '23 z', '24 x', '24 y', '24 z', '25 x', '25 y', '25 z', '26 x', '26 y', '26 z', '27 x', '27 y', '27 z', '28 x', '28 y', '28 z', '23 x v', '23 y v', '23 z v', '24 x v', '24 y v', '24 z v', '25 x v', '25 y v', '25 z v', '26 x v', '26 y v', '26 z v', '27 x v', '27 y v', '27 z v', '28 x v', '28 y v', '28 z v', '23 x a', '23 y a', '23 z a', '24 x a', '24 y a', '24 z a', '25 x a', '25 y a', '25 z a', '26 x a', '26 y a', '26 z a', '27 x a', '27 y a', '27 z a', '28 x a', '28 y a', '28 z a']\n"
     ]
    }
   ],
   "source": [
    "cols_names = []\n",
    "for i in range(23,29):\n",
    "    cols_names+=[f'{i} x',f'{i} y',f'{i} z']\n",
    "for i in range(23,29):\n",
    "    cols_names+=[f'{i} x v',f'{i} y v',f'{i} z v']\n",
    "for i in range(23,29):\n",
    "    cols_names+=[f'{i} x a',f'{i} y a',f'{i} z a']\n",
    "print(cols_names)\n",
    "df.columns = cols_names\n"
   ]
  },
  {
   "cell_type": "code",
   "execution_count": 9,
   "metadata": {},
   "outputs": [
    {
     "data": {
      "text/plain": [
       "Index(['23 x', '23 y', '23 z', '24 x', '24 y', '24 z', '25 x', '25 y', '25 z',\n",
       "       '26 x', '26 y', '26 z', '27 x', '27 y', '27 z', '28 x', '28 y', '28 z',\n",
       "       '23 x v', '23 y v', '23 z v', '24 x v', '24 y v', '24 z v', '25 x v',\n",
       "       '25 y v', '25 z v', '26 x v', '26 y v', '26 z v', '27 x v', '27 y v',\n",
       "       '27 z v', '28 x v', '28 y v', '28 z v', '23 x a', '23 y a', '23 z a',\n",
       "       '24 x a', '24 y a', '24 z a', '25 x a', '25 y a', '25 z a', '26 x a',\n",
       "       '26 y a', '26 z a', '27 x a', '27 y a', '27 z a', '28 x a', '28 y a',\n",
       "       '28 z a'],\n",
       "      dtype='object')"
      ]
     },
     "execution_count": 9,
     "metadata": {},
     "output_type": "execute_result"
    }
   ],
   "source": [
    "df.columns"
   ]
  },
  {
   "cell_type": "code",
   "execution_count": 10,
   "metadata": {},
   "outputs": [],
   "source": [
    "ULF = arr(df[['24 x','24 y']]) - arr(df[['26 x','26 y']])\n",
    "LLF = arr(df[['28 x','28 y']]) - arr(df[['26 x','26 y']])\n",
    "LKA_NOM = np.sum(ULF*LLF,axis = 1)\n",
    "LKA_DENOM = np.linalg.norm(ULF,axis = 1)*np.linalg.norm(LLF,axis = 1)\n",
    "df['LKA'] = np.arccos(LKA_NOM/LKA_DENOM)\n"
   ]
  },
  {
   "cell_type": "code",
   "execution_count": 11,
   "metadata": {},
   "outputs": [],
   "source": [
    "URF = arr(df[['23 x','23 y']]) - arr(df[['25 x','25 y']])\n",
    "LRF = arr(df[['27 x','27 y']]) - arr(df[['25 x','25 y']])\n",
    "RKA_NOM = np.sum(URF*LRF,axis = 1)\n",
    "RKA_DENOM = np.linalg.norm(URF,axis = 1)*np.linalg.norm(LRF,axis = 1)\n",
    "df['RKA'] = np.arccos(RKA_NOM/RKA_DENOM)\n"
   ]
  },
  {
   "cell_type": "code",
   "execution_count": 12,
   "metadata": {},
   "outputs": [],
   "source": [
    "ULF = arr(df[['26 x','26 y']]) - arr(df[['24 x','24 y']])\n",
    "Hip = arr(df[['23 x','23 y']]) - arr(df[['24 x','24 y']])\n",
    "LHip_NOM = np.sum(ULF*Hip,axis = 1)\n",
    "LHip_DENOM = np.linalg.norm(ULF,axis = 1)*np.linalg.norm(Hip,axis = 1)\n",
    "df['LHA'] = np.arccos(LHip_NOM/LHip_DENOM)\n"
   ]
  },
  {
   "cell_type": "markdown",
   "metadata": {},
   "source": []
  },
  {
   "cell_type": "code",
   "execution_count": 13,
   "metadata": {},
   "outputs": [],
   "source": [
    "URF = arr(df[['25 x','25 y']]) - arr(df[['23 x','23 y']])\n",
    "Hip = arr(df[['24 x','24 y']]) - arr(df[['23 x','23 y']])\n",
    "RHip_NOM = np.sum(URF*Hip,axis = 1)\n",
    "RHip_DENOM = np.linalg.norm(URF,axis = 1)*np.linalg.norm(Hip,axis = 1)\n",
    "df['RHA'] = np.arccos(RHip_NOM/RHip_DENOM)"
   ]
  },
  {
   "cell_type": "code",
   "execution_count": 14,
   "metadata": {},
   "outputs": [],
   "source": [
    "# df = df.rolling(20).sum()"
   ]
  },
  {
   "cell_type": "code",
   "execution_count": 15,
   "metadata": {},
   "outputs": [],
   "source": [
    "df = df.dropna().reset_index()\n",
    "df.drop('index',axis = 1,inplace = True)"
   ]
  },
  {
   "cell_type": "code",
   "execution_count": 29,
   "metadata": {},
   "outputs": [
    {
     "data": {
      "text/plain": [
       "<Axes: >"
      ]
     },
     "execution_count": 29,
     "metadata": {},
     "output_type": "execute_result"
    },
    {
     "data": {
      "image/png": "[encoded data removed]",
      "text/plain": [
       "<Figure size 640x480 with 1 Axes>"
      ]
     },
     "metadata": {},
     "output_type": "display_data"
    }
   ],
   "source": [
    "df['23 x'].iloc[50:50+140].plot()"
   ]
  },
  {
   "cell_type": "code",
   "execution_count": 32,
   "metadata": {},
   "outputs": [
    {
     "ename": "AttributeError",
     "evalue": "Can only use .str accessor with string values!",
     "output_type": "error",
     "traceback": [
      "\u001b[1;31m---------------------------------------------------------------------------\u001b[0m",
      "\u001b[1;31mAttributeError\u001b[0m                            Traceback (most recent call last)",
      "Cell \u001b[1;32mIn[32], line 1\u001b[0m\n\u001b[1;32m----> 1\u001b[0m \u001b[43mdf\u001b[49m\u001b[43m[\u001b[49m\u001b[38;5;124;43m'\u001b[39;49m\u001b[38;5;124;43m23 x\u001b[39;49m\u001b[38;5;124;43m'\u001b[39;49m\u001b[43m]\u001b[49m\u001b[38;5;241;43m.\u001b[39;49m\u001b[43mstr\u001b[49m\u001b[38;5;241m.\u001b[39mfind(\u001b[38;5;124m'\u001b[39m\u001b[38;5;124m0.9433721303939819\u001b[39m\u001b[38;5;124m'\u001b[39m)\n",
      "File \u001b[1;32mc:\\Users\\ahmed\\AppData\\Local\\Programs\\Python\\Python310\\lib\\site-packages\\pandas\\core\\generic.py:5902\u001b[0m, in \u001b[0;36mNDFrame.__getattr__\u001b[1;34m(self, name)\u001b[0m\n\u001b[0;32m   5895\u001b[0m \u001b[39mif\u001b[39;00m (\n\u001b[0;32m   5896\u001b[0m     name \u001b[39mnot\u001b[39;00m \u001b[39min\u001b[39;00m \u001b[39mself\u001b[39m\u001b[39m.\u001b[39m_internal_names_set\n\u001b[0;32m   5897\u001b[0m     \u001b[39mand\u001b[39;00m name \u001b[39mnot\u001b[39;00m \u001b[39min\u001b[39;00m \u001b[39mself\u001b[39m\u001b[39m.\u001b[39m_metadata\n\u001b[0;32m   5898\u001b[0m     \u001b[39mand\u001b[39;00m name \u001b[39mnot\u001b[39;00m \u001b[39min\u001b[39;00m \u001b[39mself\u001b[39m\u001b[39m.\u001b[39m_accessors\n\u001b[0;32m   5899\u001b[0m     \u001b[39mand\u001b[39;00m \u001b[39mself\u001b[39m\u001b[39m.\u001b[39m_info_axis\u001b[39m.\u001b[39m_can_hold_identifiers_and_holds_name(name)\n\u001b[0;32m   5900\u001b[0m ):\n\u001b[0;32m   5901\u001b[0m     \u001b[39mreturn\u001b[39;00m \u001b[39mself\u001b[39m[name]\n\u001b[1;32m-> 5902\u001b[0m \u001b[39mreturn\u001b[39;00m \u001b[39mobject\u001b[39;49m\u001b[39m.\u001b[39;49m\u001b[39m__getattribute__\u001b[39;49m(\u001b[39mself\u001b[39;49m, name)\n",
      "File \u001b[1;32mc:\\Users\\ahmed\\AppData\\Local\\Programs\\Python\\Python310\\lib\\site-packages\\pandas\\core\\accessor.py:182\u001b[0m, in \u001b[0;36mCachedAccessor.__get__\u001b[1;34m(self, obj, cls)\u001b[0m\n\u001b[0;32m    179\u001b[0m \u001b[39mif\u001b[39;00m obj \u001b[39mis\u001b[39;00m \u001b[39mNone\u001b[39;00m:\n\u001b[0;32m    180\u001b[0m     \u001b[39m# we're accessing the attribute of the class, i.e., Dataset.geo\u001b[39;00m\n\u001b[0;32m    181\u001b[0m     \u001b[39mreturn\u001b[39;00m \u001b[39mself\u001b[39m\u001b[39m.\u001b[39m_accessor\n\u001b[1;32m--> 182\u001b[0m accessor_obj \u001b[39m=\u001b[39m \u001b[39mself\u001b[39;49m\u001b[39m.\u001b[39;49m_accessor(obj)\n\u001b[0;32m    183\u001b[0m \u001b[39m# Replace the property with the accessor object. Inspired by:\u001b[39;00m\n\u001b[0;32m    184\u001b[0m \u001b[39m# https://www.pydanny.com/cached-property.html\u001b[39;00m\n\u001b[0;32m    185\u001b[0m \u001b[39m# We need to use object.__setattr__ because we overwrite __setattr__ on\u001b[39;00m\n\u001b[0;32m    186\u001b[0m \u001b[39m# NDFrame\u001b[39;00m\n\u001b[0;32m    187\u001b[0m \u001b[39mobject\u001b[39m\u001b[39m.\u001b[39m\u001b[39m__setattr__\u001b[39m(obj, \u001b[39mself\u001b[39m\u001b[39m.\u001b[39m_name, accessor_obj)\n",
      "File \u001b[1;32mc:\\Users\\ahmed\\AppData\\Local\\Programs\\Python\\Python310\\lib\\site-packages\\pandas\\core\\strings\\accessor.py:181\u001b[0m, in \u001b[0;36mStringMethods.__init__\u001b[1;34m(self, data)\u001b[0m\n\u001b[0;32m    178\u001b[0m \u001b[39mdef\u001b[39;00m \u001b[39m__init__\u001b[39m(\u001b[39mself\u001b[39m, data) \u001b[39m-\u001b[39m\u001b[39m>\u001b[39m \u001b[39mNone\u001b[39;00m:\n\u001b[0;32m    179\u001b[0m     \u001b[39mfrom\u001b[39;00m \u001b[39mpandas\u001b[39;00m\u001b[39m.\u001b[39;00m\u001b[39mcore\u001b[39;00m\u001b[39m.\u001b[39;00m\u001b[39marrays\u001b[39;00m\u001b[39m.\u001b[39;00m\u001b[39mstring_\u001b[39;00m \u001b[39mimport\u001b[39;00m StringDtype\n\u001b[1;32m--> 181\u001b[0m     \u001b[39mself\u001b[39m\u001b[39m.\u001b[39m_inferred_dtype \u001b[39m=\u001b[39m \u001b[39mself\u001b[39;49m\u001b[39m.\u001b[39;49m_validate(data)\n\u001b[0;32m    182\u001b[0m     \u001b[39mself\u001b[39m\u001b[39m.\u001b[39m_is_categorical \u001b[39m=\u001b[39m is_categorical_dtype(data\u001b[39m.\u001b[39mdtype)\n\u001b[0;32m    183\u001b[0m     \u001b[39mself\u001b[39m\u001b[39m.\u001b[39m_is_string \u001b[39m=\u001b[39m \u001b[39misinstance\u001b[39m(data\u001b[39m.\u001b[39mdtype, StringDtype)\n",
      "File \u001b[1;32mc:\\Users\\ahmed\\AppData\\Local\\Programs\\Python\\Python310\\lib\\site-packages\\pandas\\core\\strings\\accessor.py:235\u001b[0m, in \u001b[0;36mStringMethods._validate\u001b[1;34m(data)\u001b[0m\n\u001b[0;32m    232\u001b[0m inferred_dtype \u001b[39m=\u001b[39m lib\u001b[39m.\u001b[39minfer_dtype(values, skipna\u001b[39m=\u001b[39m\u001b[39mTrue\u001b[39;00m)\n\u001b[0;32m    234\u001b[0m \u001b[39mif\u001b[39;00m inferred_dtype \u001b[39mnot\u001b[39;00m \u001b[39min\u001b[39;00m allowed_types:\n\u001b[1;32m--> 235\u001b[0m     \u001b[39mraise\u001b[39;00m \u001b[39mAttributeError\u001b[39;00m(\u001b[39m\"\u001b[39m\u001b[39mCan only use .str accessor with string values!\u001b[39m\u001b[39m\"\u001b[39m)\n\u001b[0;32m    236\u001b[0m \u001b[39mreturn\u001b[39;00m inferred_dtype\n",
      "\u001b[1;31mAttributeError\u001b[0m: Can only use .str accessor with string values!"
     ]
    }
   ],
   "source": [
    "df['23 x'].str.find('0.9433721303939819')"
   ]
  },
  {
   "cell_type": "code",
   "execution_count": 86,
   "metadata": {},
   "outputs": [
    {
     "data": {
      "text/plain": [
       "<Axes: >"
      ]
     },
     "execution_count": 86,
     "metadata": {},
     "output_type": "execute_result"
    },
    {
     "data": {
      "image/png": "[encoded data removed]",
      "text/plain": [
       "<Figure size 640x480 with 1 Axes>"
      ]
     },
     "metadata": {},
     "output_type": "display_data"
    }
   ],
   "source": [
    "df['LKA'].iloc[1000:1050].plot()\n",
    "df['RKA'].iloc[1000:1050].plot()"
   ]
  },
  {
   "cell_type": "code",
   "execution_count": 19,
   "metadata": {},
   "outputs": [],
   "source": [
    "from math import pi\n",
    "df.to_csv('D:\\\\Career\\\\GradProj\\\\Datasets\\\\dataset2.csv')"
   ]
  },
  {
   "cell_type": "code",
   "execution_count": null,
   "metadata": {},
   "outputs": [],
   "source": []
  }
 ],
 "metadata": {
  "kernelspec": {
   "display_name": "Python 3.10.2 64-bit",
   "language": "python",
   "name": "python3"
  },
  "language_info": {
   "codemirror_mode": {
    "name": "ipython",
    "version": 3
   },
   "file_extension": ".py",
   "mimetype": "text/x-python",
   "name": "python",
   "nbconvert_exporter": "python",
   "pygments_lexer": "ipython3",
   "version": "3.10.2"
  },
  "orig_nbformat": 4,
  "vscode": {
   "interpreter": {
    "hash": "0cad00d5a13a3f60cb6d0dee52753d434f6ef86636012a882082aa2fea66afa5"
   }
  }
 },
 "nbformat": 4,
 "nbformat_minor": 2
}
