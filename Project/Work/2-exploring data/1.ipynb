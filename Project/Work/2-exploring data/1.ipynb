{
 "cells": [
  {
   "cell_type": "code",
   "execution_count": 41,
   "metadata": {},
   "outputs": [],
   "source": [
    "import seaborn as sb\n",
    "import matplotlib.pyplot as plt\n",
    "import pandas as pd\n",
    "import numpy as np"
   ]
  },
  {
   "cell_type": "code",
   "execution_count": 42,
   "metadata": {},
   "outputs": [],
   "source": [
    "df = pd.read_csv('D:\\\\Career\\\\GradProj\\\\Datasets\\\\dataset2.csv')"
   ]
  },
  {
   "cell_type": "code",
   "execution_count": 43,
   "metadata": {},
   "outputs": [
    {
     "name": "stdout",
     "output_type": "stream",
     "text": [
      "<class 'pandas.core.frame.DataFrame'>\n",
      "RangeIndex: 56722 entries, 0 to 56721\n",
      "Data columns (total 59 columns):\n",
      " #   Column      Non-Null Count  Dtype  \n",
      "---  ------      --------------  -----  \n",
      " 0   Unnamed: 0  56722 non-null  int64  \n",
      " 1   23 x        56722 non-null  float64\n",
      " 2   23 y        56722 non-null  float64\n",
      " 3   23 z        56722 non-null  float64\n",
      " 4   24 x        56722 non-null  float64\n",
      " 5   24 y        56722 non-null  float64\n",
      " 6   24 z        56722 non-null  float64\n",
      " 7   25 x        56722 non-null  float64\n",
      " 8   25 y        56722 non-null  float64\n",
      " 9   25 z        56722 non-null  float64\n",
      " 10  26 x        56722 non-null  float64\n",
      " 11  26 y        56722 non-null  float64\n",
      " 12  26 z        56722 non-null  float64\n",
      " 13  27 x        56722 non-null  float64\n",
      " 14  27 y        56722 non-null  float64\n",
      " 15  27 z        56722 non-null  float64\n",
      " 16  28 x        56722 non-null  float64\n",
      " 17  28 y        56722 non-null  float64\n",
      " 18  28 z        56722 non-null  float64\n",
      " 19  23 x v      56722 non-null  float64\n",
      " 20  23 y v      56722 non-null  float64\n",
      " 21  23 z v      56722 non-null  float64\n",
      " 22  24 x v      56722 non-null  float64\n",
      " 23  24 y v      56722 non-null  float64\n",
      " 24  24 z v      56722 non-null  float64\n",
      " 25  25 x v      56722 non-null  float64\n",
      " 26  25 y v      56722 non-null  float64\n",
      " 27  25 z v      56722 non-null  float64\n",
      " 28  26 x v      56722 non-null  float64\n",
      " 29  26 y v      56722 non-null  float64\n",
      " 30  26 z v      56722 non-null  float64\n",
      " 31  27 x v      56722 non-null  float64\n",
      " 32  27 y v      56722 non-null  float64\n",
      " 33  27 z v      56722 non-null  float64\n",
      " 34  28 x v      56722 non-null  float64\n",
      " 35  28 y v      56722 non-null  float64\n",
      " 36  28 z v      56722 non-null  float64\n",
      " 37  23 x a      56722 non-null  float64\n",
      " 38  23 y a      56722 non-null  float64\n",
      " 39  23 z a      56722 non-null  float64\n",
      " 40  24 x a      56722 non-null  float64\n",
      " 41  24 y a      56722 non-null  float64\n",
      " 42  24 z a      56722 non-null  float64\n",
      " 43  25 x a      56722 non-null  float64\n",
      " 44  25 y a      56722 non-null  float64\n",
      " 45  25 z a      56722 non-null  float64\n",
      " 46  26 x a      56722 non-null  float64\n",
      " 47  26 y a      56722 non-null  float64\n",
      " 48  26 z a      56722 non-null  float64\n",
      " 49  27 x a      56722 non-null  float64\n",
      " 50  27 y a      56722 non-null  float64\n",
      " 51  27 z a      56722 non-null  float64\n",
      " 52  28 x a      56722 non-null  float64\n",
      " 53  28 y a      56722 non-null  float64\n",
      " 54  28 z a      56722 non-null  float64\n",
      " 55  LKA         56722 non-null  float64\n",
      " 56  RKA         56722 non-null  float64\n",
      " 57  LHA         56722 non-null  float64\n",
      " 58  RHA         56722 non-null  float64\n",
      "dtypes: float64(58), int64(1)\n",
      "memory usage: 25.5 MB\n"
     ]
    }
   ],
   "source": [
    "df.info()"
   ]
  },
  {
   "cell_type": "code",
   "execution_count": 44,
   "metadata": {},
   "outputs": [
    {
     "name": "stderr",
     "output_type": "stream",
     "text": [
      "C:\\Users\\ahmed\\AppData\\Local\\Temp\\ipykernel_10912\\2769350894.py:3: RuntimeWarning: More than 20 figures have been opened. Figures created through the pyplot interface (`matplotlib.pyplot.figure`) are retained until explicitly closed and may consume too much memory. (To control this warning, see the rcParam `figure.max_open_warning`). Consider using `matplotlib.pyplot.close()`.\n",
      "  plt.figure(figsize=(20,8))\n"
     ]
    },
    {
     "data": {
      "text/plain": [
       "<Axes: >"
      ]
     },
     "execution_count": 44,
     "metadata": {},
     "output_type": "execute_result"
    }
   ],
   "source": [
    "plt.figure(figsize=(20,8))\n",
    "df['26 x'].iloc[0:2000].plot()\n",
    "plt.figure(figsize=(20,8))\n",
    "df['26 x v'].iloc[0:200].plot(color = 'red')\n",
    "df['26 x a'].iloc[0:200].plot(color = 'gold')"
   ]
  },
  {
   "cell_type": "code",
   "execution_count": 45,
   "metadata": {},
   "outputs": [
    {
     "data": {
      "text/plain": [
       "array(['Unnamed: 0', '23 x', '23 y', '23 z', '24 x', '24 y', '24 z',\n",
       "       '25 x', '25 y', '25 z', '26 x', '26 y', '26 z', '27 x', '27 y',\n",
       "       '27 z', '28 x', '28 y', '28 z', '23 x v', '23 y v', '23 z v',\n",
       "       '24 x v', '24 y v', '24 z v', '25 x v', '25 y v', '25 z v',\n",
       "       '26 x v', '26 y v', '26 z v', '27 x v', '27 y v', '27 z v',\n",
       "       '28 x v', '28 y v', '28 z v', '23 x a', '23 y a', '23 z a',\n",
       "       '24 x a', '24 y a', '24 z a', '25 x a', '25 y a', '25 z a',\n",
       "       '26 x a', '26 y a', '26 z a', '27 x a', '27 y a', '27 z a',\n",
       "       '28 x a', '28 y a', '28 z a', 'LKA', 'RKA', 'LHA', 'RHA'],\n",
       "      dtype=object)"
      ]
     },
     "execution_count": 45,
     "metadata": {},
     "output_type": "execute_result"
    }
   ],
   "source": [
    "import sys\n",
    "np.set_printoptions(threshold=sys.maxsize)\n",
    "np.array(df.columns)"
   ]
  },
  {
   "cell_type": "code",
   "execution_count": 46,
   "metadata": {},
   "outputs": [
    {
     "data": {
      "text/plain": [
       "[<matplotlib.lines.Line2D at 0x223a58c2380>,\n",
       " <matplotlib.lines.Line2D at 0x223a58c23e0>]"
      ]
     },
     "execution_count": 46,
     "metadata": {},
     "output_type": "execute_result"
    }
   ],
   "source": [
    "plt.figure(figsize=(20,8))\n",
    "plt.plot(df[['LKA','RKA']].iloc[0:100])"
   ]
  },
  {
   "cell_type": "code",
   "execution_count": 33,
   "metadata": {},
   "outputs": [],
   "source": [
    "# vel_col = ['7 x d', '8 x d', '9 x d',\n",
    "#        '10 x d', '11 x d', '12 x d',\n",
    "#        '7 y d','8 y d', '9 y d',\n",
    "#        '10 y d', '11 y d', '12 y d',\n",
    "#        '7 z d', '8 z d', '9 z d',\n",
    "#        '10 z d', '11 z d', '12 z d']\n",
    "       \n",
    "# acc_col = ['7 x dd', '8 x dd', '9 x dd',\n",
    "#        '10 x dd', '11 x dd', '12 x dd',\n",
    "#        '7 y dd', '8 y dd', '9 y dd',\n",
    "#        '10 y dd', '11 y dd', '12 y dd',\n",
    "#        '7 z dd', '8 z dd', '9 z dd',\n",
    "#        '10 z dd', '11 z dd', '12 z dd']\n",
    "# df_rounded = df.copy()\n",
    "\n",
    "# df_rounded[vel_col] = np.rint(df[vel_col]*2.2)\n",
    "# df_rounded.clip(lower = -1, upper=1,inplace=True)\n",
    "# df_rounded[acc_col] =np.round(df_rounded[acc_col] * 2) / 2\n",
    "# plt.figure(figsize=(20,8))\n",
    "# (df['9 x d'].iloc[0:200]).plot(color = 'red')\n",
    "# df_rounded['9 x d'].iloc[0:200].plot(color = 'gold')\n",
    "# plt.figure(figsize=(20,8))\n",
    "# df['9 x dd'].iloc[0:200].plot(color = 'blue')\n",
    "# df_rounded['9 x dd'].iloc[0:200].plot(color = 'gold')\n",
    "# plt.figure(figsize=(20,8))\n",
    "# df_rounded['9 x d'].iloc[0:200].plot(color = 'red')\n",
    "# df_rounded['9 x dd'].iloc[0:200].plot(color = 'gold')"
   ]
  },
  {
   "cell_type": "code",
   "execution_count": 34,
   "metadata": {},
   "outputs": [],
   "source": [
    "from math import pi"
   ]
  },
  {
   "cell_type": "code",
   "execution_count": 40,
   "metadata": {},
   "outputs": [],
   "source": [
    "import matplotlib\n",
    "matplotlib.use('Agg')\n",
    "plt.figure(figsize=(114*5,8))\n",
    "(df['RKA'].iloc[0:14000]).plot(color = 'hotpink')\n",
    "(df['LKA'].iloc[0:14000]).plot(color = 'gold')\n",
    "plt.savefig('fooKA.pdf',bbox_inches='tight')"
   ]
  },
  {
   "cell_type": "code",
   "execution_count": 36,
   "metadata": {},
   "outputs": [
    {
     "data": {
      "text/plain": [
       "array(['23 x', '23 x a', '23 x v', '23 y', '23 y a', '23 y v', '23 z',\n",
       "       '23 z a', '23 z v', '24 x', '24 x a', '24 x v', '24 y', '24 y a',\n",
       "       '24 y v', '24 z', '24 z a', '24 z v', '25 x', '25 x a', '25 x v',\n",
       "       '25 y', '25 y a', '25 y v', '25 z', '25 z a', '25 z v', '26 x',\n",
       "       '26 x a', '26 x v', '26 y', '26 y a', '26 y v', '26 z', '26 z a',\n",
       "       '26 z v', '27 x', '27 x a', '27 x v', '27 y', '27 y a', '27 y v',\n",
       "       '27 z', '27 z a', '27 z v', '28 x', '28 x a', '28 x v', '28 y',\n",
       "       '28 y a', '28 y v', '28 z', '28 z a', '28 z v', 'LHA', 'LKA',\n",
       "       'RHA', 'RKA', 'Unnamed: 0'], dtype='<U10')"
      ]
     },
     "execution_count": 36,
     "metadata": {},
     "output_type": "execute_result"
    }
   ],
   "source": [
    "import sys\n",
    "np.set_printoptions(threshold=sys.maxsize)\n",
    "np.array(sorted(df.columns))"
   ]
  },
  {
   "cell_type": "code",
   "execution_count": 37,
   "metadata": {},
   "outputs": [
    {
     "data": {
      "text/plain": [
       "(56722, 59)"
      ]
     },
     "execution_count": 37,
     "metadata": {},
     "output_type": "execute_result"
    }
   ],
   "source": [
    "df.shape"
   ]
  },
  {
   "cell_type": "code",
   "execution_count": 38,
   "metadata": {},
   "outputs": [
    {
     "ename": "KeyError",
     "evalue": "'9 x d'",
     "output_type": "error",
     "traceback": [
      "\u001b[1;31m---------------------------------------------------------------------------\u001b[0m",
      "\u001b[1;31mKeyError\u001b[0m                                  Traceback (most recent call last)",
      "File \u001b[1;32mc:\\Users\\ahmed\\AppData\\Local\\Programs\\Python\\Python310\\lib\\site-packages\\pandas\\core\\indexes\\base.py:3802\u001b[0m, in \u001b[0;36mIndex.get_loc\u001b[1;34m(self, key, method, tolerance)\u001b[0m\n\u001b[0;32m   3801\u001b[0m \u001b[39mtry\u001b[39;00m:\n\u001b[1;32m-> 3802\u001b[0m     \u001b[39mreturn\u001b[39;00m \u001b[39mself\u001b[39;49m\u001b[39m.\u001b[39;49m_engine\u001b[39m.\u001b[39;49mget_loc(casted_key)\n\u001b[0;32m   3803\u001b[0m \u001b[39mexcept\u001b[39;00m \u001b[39mKeyError\u001b[39;00m \u001b[39mas\u001b[39;00m err:\n",
      "File \u001b[1;32mc:\\Users\\ahmed\\AppData\\Local\\Programs\\Python\\Python310\\lib\\site-packages\\pandas\\_libs\\index.pyx:138\u001b[0m, in \u001b[0;36mpandas._libs.index.IndexEngine.get_loc\u001b[1;34m()\u001b[0m\n",
      "File \u001b[1;32mc:\\Users\\ahmed\\AppData\\Local\\Programs\\Python\\Python310\\lib\\site-packages\\pandas\\_libs\\index.pyx:165\u001b[0m, in \u001b[0;36mpandas._libs.index.IndexEngine.get_loc\u001b[1;34m()\u001b[0m\n",
      "File \u001b[1;32mpandas\\_libs\\hashtable_class_helper.pxi:5745\u001b[0m, in \u001b[0;36mpandas._libs.hashtable.PyObjectHashTable.get_item\u001b[1;34m()\u001b[0m\n",
      "File \u001b[1;32mpandas\\_libs\\hashtable_class_helper.pxi:5753\u001b[0m, in \u001b[0;36mpandas._libs.hashtable.PyObjectHashTable.get_item\u001b[1;34m()\u001b[0m\n",
      "\u001b[1;31mKeyError\u001b[0m: '9 x d'",
      "\nThe above exception was the direct cause of the following exception:\n",
      "\u001b[1;31mKeyError\u001b[0m                                  Traceback (most recent call last)",
      "Cell \u001b[1;32mIn[38], line 2\u001b[0m\n\u001b[0;32m      1\u001b[0m plt\u001b[38;5;241m.\u001b[39mfigure(figsize\u001b[38;5;241m=\u001b[39m(\u001b[38;5;241m20\u001b[39m,\u001b[38;5;241m8\u001b[39m))\n\u001b[1;32m----> 2\u001b[0m (\u001b[43mdf\u001b[49m\u001b[43m[\u001b[49m\u001b[38;5;124;43m'\u001b[39;49m\u001b[38;5;124;43m9 x d\u001b[39;49m\u001b[38;5;124;43m'\u001b[39;49m\u001b[43m]\u001b[49m\u001b[38;5;241m.\u001b[39miloc[\u001b[38;5;241m200\u001b[39m:\u001b[38;5;241m400\u001b[39m])\u001b[38;5;241m.\u001b[39mplot(color \u001b[38;5;241m=\u001b[39m \u001b[38;5;124m'\u001b[39m\u001b[38;5;124mred\u001b[39m\u001b[38;5;124m'\u001b[39m)\n\u001b[0;32m      3\u001b[0m df_rounded[\u001b[38;5;124m'\u001b[39m\u001b[38;5;124m9 x d\u001b[39m\u001b[38;5;124m'\u001b[39m]\u001b[38;5;241m.\u001b[39miloc[\u001b[38;5;241m200\u001b[39m:\u001b[38;5;241m400\u001b[39m]\u001b[38;5;241m.\u001b[39mplot(color \u001b[38;5;241m=\u001b[39m \u001b[38;5;124m'\u001b[39m\u001b[38;5;124mgold\u001b[39m\u001b[38;5;124m'\u001b[39m)\n",
      "File \u001b[1;32mc:\\Users\\ahmed\\AppData\\Local\\Programs\\Python\\Python310\\lib\\site-packages\\pandas\\core\\frame.py:3807\u001b[0m, in \u001b[0;36mDataFrame.__getitem__\u001b[1;34m(self, key)\u001b[0m\n\u001b[0;32m   3805\u001b[0m \u001b[39mif\u001b[39;00m \u001b[39mself\u001b[39m\u001b[39m.\u001b[39mcolumns\u001b[39m.\u001b[39mnlevels \u001b[39m>\u001b[39m \u001b[39m1\u001b[39m:\n\u001b[0;32m   3806\u001b[0m     \u001b[39mreturn\u001b[39;00m \u001b[39mself\u001b[39m\u001b[39m.\u001b[39m_getitem_multilevel(key)\n\u001b[1;32m-> 3807\u001b[0m indexer \u001b[39m=\u001b[39m \u001b[39mself\u001b[39;49m\u001b[39m.\u001b[39;49mcolumns\u001b[39m.\u001b[39;49mget_loc(key)\n\u001b[0;32m   3808\u001b[0m \u001b[39mif\u001b[39;00m is_integer(indexer):\n\u001b[0;32m   3809\u001b[0m     indexer \u001b[39m=\u001b[39m [indexer]\n",
      "File \u001b[1;32mc:\\Users\\ahmed\\AppData\\Local\\Programs\\Python\\Python310\\lib\\site-packages\\pandas\\core\\indexes\\base.py:3804\u001b[0m, in \u001b[0;36mIndex.get_loc\u001b[1;34m(self, key, method, tolerance)\u001b[0m\n\u001b[0;32m   3802\u001b[0m     \u001b[39mreturn\u001b[39;00m \u001b[39mself\u001b[39m\u001b[39m.\u001b[39m_engine\u001b[39m.\u001b[39mget_loc(casted_key)\n\u001b[0;32m   3803\u001b[0m \u001b[39mexcept\u001b[39;00m \u001b[39mKeyError\u001b[39;00m \u001b[39mas\u001b[39;00m err:\n\u001b[1;32m-> 3804\u001b[0m     \u001b[39mraise\u001b[39;00m \u001b[39mKeyError\u001b[39;00m(key) \u001b[39mfrom\u001b[39;00m \u001b[39merr\u001b[39;00m\n\u001b[0;32m   3805\u001b[0m \u001b[39mexcept\u001b[39;00m \u001b[39mTypeError\u001b[39;00m:\n\u001b[0;32m   3806\u001b[0m     \u001b[39m# If we have a listlike key, _check_indexing_error will raise\u001b[39;00m\n\u001b[0;32m   3807\u001b[0m     \u001b[39m#  InvalidIndexError. Otherwise we fall through and re-raise\u001b[39;00m\n\u001b[0;32m   3808\u001b[0m     \u001b[39m#  the TypeError.\u001b[39;00m\n\u001b[0;32m   3809\u001b[0m     \u001b[39mself\u001b[39m\u001b[39m.\u001b[39m_check_indexing_error(key)\n",
      "\u001b[1;31mKeyError\u001b[0m: '9 x d'"
     ]
    }
   ],
   "source": [
    "plt.figure(figsize=(20,8))\n",
    "(df['9 x d'].iloc[200:400]).plot(color = 'red')\n",
    "df_rounded['9 x d'].iloc[200:400].plot(color = 'gold')"
   ]
  },
  {
   "cell_type": "code",
   "execution_count": 39,
   "metadata": {},
   "outputs": [],
   "source": [
    "df.to_csv('D:\\\\Career\\\\GradProj\\\\Datasets\\\\dataset3.csv')\n",
    "# df_rounded.to_csv('D:\\\\Career\\\\GradProj\\\\Datasets\\\\dataset3_rounded.csv')"
   ]
  },
  {
   "cell_type": "code",
   "execution_count": 1,
   "metadata": {},
   "outputs": [
    {
     "data": {
      "text/plain": [
       "1"
      ]
     },
     "execution_count": 1,
     "metadata": {},
     "output_type": "execute_result"
    }
   ],
   "source": []
  },
  {
   "cell_type": "code",
   "execution_count": null,
   "metadata": {},
   "outputs": [],
   "source": []
  }
 ],
 "metadata": {
  "kernelspec": {
   "display_name": "Python 3.10.2 64-bit",
   "language": "python",
   "name": "python3"
  },
  "language_info": {
   "codemirror_mode": {
    "name": "ipython",
    "version": 3
   },
   "file_extension": ".py",
   "mimetype": "text/x-python",
   "name": "python",
   "nbconvert_exporter": "python",
   "pygments_lexer": "ipython3",
   "version": "3.10.2"
  },
  "orig_nbformat": 4,
  "vscode": {
   "interpreter": {
    "hash": "0cad00d5a13a3f60cb6d0dee52753d434f6ef86636012a882082aa2fea66afa5"
   }
  }
 },
 "nbformat": 4,
 "nbformat_minor": 2
}
