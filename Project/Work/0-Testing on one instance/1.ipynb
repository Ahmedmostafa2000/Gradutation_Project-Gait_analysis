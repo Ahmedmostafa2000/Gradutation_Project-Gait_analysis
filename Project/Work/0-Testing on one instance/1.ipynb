{
 "cells": [
  {
   "cell_type": "code",
   "execution_count": 1,
   "metadata": {},
   "outputs": [],
   "source": [
    "import cv2\n",
    "import mediapipe as mp\n",
    "import pandas as pd\n",
    "import os\n",
    "import time\n",
    "import numpy as np\n",
    "from math import pi\n",
    "import matplotlib.pyplot as plt\n",
    "from matplotlib.animation import FuncAnimation\n",
    "import matplotlib\n",
    "from IPython.display import clear_output"
   ]
  },
  {
   "cell_type": "code",
   "execution_count": 2,
   "metadata": {},
   "outputs": [],
   "source": [
    "plt.style.use('fivethirtyeight')\n",
    "%matplotlib qt \n",
    "angsl = [0,0]\n",
    "angsr = [0,0]\n",
    "fig, [[ax1, ax2, ax3], [ax4,ax5,ax6]] = plt.subplots(2,3,figsize = (10,8))\n",
    "#initiating mediapipe\n",
    "mp_drawing = mp.solutions.drawing_utils\n",
    "mp_pose = mp.solutions.pose\n",
    "mp_drawing_styles = mp.solutions.drawing_styles\n",
    "\n",
    "\n",
    "\n",
    "#initiating constants\n",
    "FILE_NAME = \"D:/Career/GradProj/Datasets/Normal/person01_jogging_d1_uncomp.avi\"\n",
    "# VIDEO_NAME = \"1_out\"\n",
    "N_TPOINTS = 6\n",
    "\n",
    "#initiating video caputure\n",
    "cap = cv2.VideoCapture(FILE_NAME)\n",
    "\n",
    "# out = cv2.VideoWriter(VIDEO_NAME+\".mp4\",\n",
    "# \t\tcv2.VideoWriter_fourcc(*\"MJPG\"),\n",
    "# \t\tfps = 60,frameSize=(1920,1080))\n",
    "\n",
    "#initiating records\n",
    "pose_lms = [0]*32\n",
    "record = []\n",
    "frame = 0\n",
    "plt.ion()\n",
    "pos = []"
   ]
  },
  {
   "cell_type": "code",
   "execution_count": 3,
   "metadata": {},
   "outputs": [],
   "source": [
    "with mp_pose.Pose(\n",
    "    min_detection_confidence=0.5,\n",
    "    min_tracking_confidence=0.4) as pose:\n",
    "  while cap.isOpened():\n",
    "    success, image = cap.read()\n",
    "    try:\n",
    "      image = cv2.resize(image, (160*8,120*8))\n",
    "    except:\n",
    "      break\n",
    "    frame+=1\n",
    "    if not success:\n",
    "      break\n",
    "    # Flip the image horizontally for a later selfie-view display, and convert\n",
    "    # the BGR image to RGB.\n",
    "    image = cv2.cvtColor(image, cv2.COLOR_BGR2RGB)\n",
    "    # To improve performance, optionally mark the image as not writeable to\n",
    "    # pass by reference.\n",
    "    image.flags.writeable = True\n",
    "    results = pose.process(image)\n",
    "    landmark_list = []\n",
    "    pose_lm = results.pose_landmarks\n",
    "    if pose_lm:\n",
    "      for j in range(len(pose_lm.landmark)):\n",
    "        landmark_list.append([pose_lm.landmark[j].x,pose_lm.landmark[j].y,pose_lm.landmark[j].z])\n",
    "    mp_drawing.draw_landmarks(image,\n",
    "                              results.pose_landmarks,\n",
    "                              mp_pose.POSE_CONNECTIONS,\n",
    "                              landmark_drawing_spec=mp_drawing_styles.get_default_pose_landmarks_style())\n",
    "\n",
    "\n",
    "    record.append(landmark_list)\n",
    "    # Draw the pose annotation on the image.\n",
    "    # image.flags.writeable = True\n",
    "    image = cv2.cvtColor(image, cv2.COLOR_RGB2BGR)\n",
    "    mp_drawing.draw_landmarks(\n",
    "        image, results.pose_landmarks, mp_pose.POSE_CONNECTIONS)\n",
    "    \n",
    "    \n",
    "    # cv2.imshow('MediaPipe Pose', image)\n",
    "    image = cv2.resize(image, (1920//2,1080//2))\n",
    "    if record[-1]:\n",
    "        pos.append(record[-1])\n",
    "        \n",
    "    try:\n",
    "      record[frame-1][24]\n",
    "      hip = (np.array(record[frame-1][24])*np.array([1920//2,1080//2,1])).astype(int)\n",
    "      knee = (np.array(record[frame-1][26])*np.array([1920//2,1080//2,1])).astype(int)\n",
    "      ank = (np.array(record[frame-1][28])*np.array([1920//2,1080//2,1])).astype(int)\n",
    "\n",
    "      ULF = hip[0:2] - knee[0:2]\n",
    "      LLF = ank[0:2] - knee[0:2]\n",
    "      LKA_NOM = np.sum(ULF*LLF)\n",
    "      LKA_DENOM = np.linalg.norm(ULF)*np.linalg.norm(LLF)\n",
    "      angsl.append(abs(180-np.arccos(LKA_NOM/LKA_DENOM)*180//pi))\n",
    "      cv2.line(image,hip[0:2],knee[0:2],(0,255,0),5)\n",
    "      cv2.line(image,knee[0:2],ank[0:2],(0,255,0),5)\n",
    "\n",
    "      hip = (np.array(record[frame-1][23])*np.array([1920//2,1080//2,1])).astype(int)\n",
    "      knee = (np.array(record[frame-1][25])*np.array([1920//2,1080//2,1])).astype(int)\n",
    "      ank = (np.array(record[frame-1][27])*np.array([1920//2,1080//2,1])).astype(int)\n",
    "\n",
    "      URF = hip[0:2] - knee[0:2]\n",
    "      LRF = ank[0:2] - knee[0:2]\n",
    "      RKA_NOM = np.sum(URF*LRF)\n",
    "      RKA_DENOM = np.linalg.norm(URF)*np.linalg.norm(LRF)\n",
    "      angsr.append(abs(180-np.arccos(RKA_NOM/RKA_DENOM)*180//pi))\n",
    "      # cv2.line(image,[1920*(frame-1)//(415*2),angs[-2]],[1920*frame//(415*2),angs[-1]],(0,255,0),5)\n",
    "      cv2.line(image,hip[0:2],knee[0:2],(255,0,0),5)\n",
    "      cv2.line(image,knee[0:2],ank[0:2],(255,0,0),5)\n",
    "      \n",
    "      #center of hip\n",
    "      COH = (np.asarray(pos)[:,24,0]+np.asarray(pos)[:,23,0])/2\n",
    "      #y of anckle\n",
    "      ank_yr = np.diff(np.asarray(pos)[:,27,1])\n",
    "      ank_yl = np.diff(np.asarray(pos)[:,28,1])\n",
    "      #center of hip velocity\n",
    "      COH_v = abs(np.diff(COH))\n",
    "    except:\n",
    "      pass\n",
    "\n",
    "    try:\n",
    "      if pose_lm:\n",
    "        ax1.plot(angsr, color = 'gold',label = 'right knee angle')\n",
    "        ax1.plot(angsl, color = 'hotpink', label = 'left knee angle')\n",
    "        ax1.set_title('right and left knee angle')\n",
    "\n",
    "        ax2.plot(COH,color = 'gold', label= 'Center of hip position')\n",
    "        ax2.set_title('Center of hip position')\n",
    "\n",
    "        ax3.plot(COH_v,color = 'gold', label= 'Center of hip velocity')\n",
    "        ax3.set_title('Center of hip velocity')\n",
    "        \n",
    "        ax4.plot(ank_yr,color = 'gold', label= 'anckle right y velocity')\n",
    "        ax4.plot(ank_yl,color = 'hotpink', label= 'anckle left y velocity')\n",
    "        ax4.set_title('anckle left y velocity')\n",
    "\n",
    "        ax5.plot(abs(np.diff(angsr)),color = 'gold', label= 'right knee angle velocity')\n",
    "        ax5.plot(abs(np.diff(angsl)),color = 'hotpink', label= 'left knee angle velocity')\n",
    "        ax5.set_title('right and left knee angle velocity')\n",
    "        \n",
    "        fig.tight_layout()\n",
    "        fig.canvas.draw()\n",
    "        fig.canvas.flush_events()\n",
    "        plt.pause(0.00001)\n",
    "        # ax1.clear()\n",
    "        # ax2.clear()\n",
    "        # ax3.clear()\n",
    "        # ax4.clear()\n",
    "        # ax5.clear()\n",
    "        # clear_output()\n",
    "    except:\n",
    "      pass\n",
    "    \n",
    "    cv2.imshow('MediaPipe Pose', image)\n",
    "    if cv2.waitKey(1) & 0xFF == ord(\"q\"):\n",
    "      break\n",
    "cap.release()"
   ]
  },
  {
   "cell_type": "code",
   "execution_count": 4,
   "metadata": {},
   "outputs": [
    {
     "data": {
      "text/plain": [
       "[<matplotlib.lines.Line2D at 0x2d133a2e4a0>]"
      ]
     },
     "execution_count": 4,
     "metadata": {},
     "output_type": "execute_result"
    }
   ],
   "source": [
    "plt.plot(np.asarray(pos)[:,23,0])"
   ]
  },
  {
   "cell_type": "code",
   "execution_count": 5,
   "metadata": {},
   "outputs": [
    {
     "data": {
      "text/plain": [
       "array([ 9.43372130e-01,  9.13731873e-01,  8.94754052e-01,  8.70305896e-01,\n",
       "        8.44759762e-01,  8.20814490e-01,  7.87348747e-01,  7.62448609e-01,\n",
       "        7.32023656e-01,  7.04926848e-01,  6.73152030e-01,  6.44610345e-01,\n",
       "        6.22131646e-01,  5.97256660e-01,  5.70136070e-01,  5.44707894e-01,\n",
       "        5.14398217e-01,  4.85516459e-01,  4.53036219e-01,  4.29507822e-01,\n",
       "        3.99143785e-01,  3.71241033e-01,  3.40363979e-01,  3.09875667e-01,\n",
       "        2.86860675e-01,  2.61626959e-01,  2.38091141e-01,  2.09810212e-01,\n",
       "        1.80224389e-01,  1.49399087e-01,  1.18589960e-01,  9.23276171e-02,\n",
       "        6.12807646e-02,  1.88633967e-02,  7.78194575e-04, -3.54677849e-02,\n",
       "        5.20977490e-02,  8.61000940e-02,  1.12304822e-01,  1.43094689e-01,\n",
       "        1.77671790e-01,  2.02062324e-01,  2.33172581e-01,  2.55608171e-01,\n",
       "        2.81026423e-01,  3.05835098e-01,  3.27265859e-01,  3.57556224e-01,\n",
       "        3.85641396e-01,  4.18405592e-01,  4.49174106e-01,  4.78146970e-01,\n",
       "        5.05056500e-01,  5.26609898e-01,  5.45466065e-01,  5.79789042e-01,\n",
       "        6.06074035e-01,  6.26451313e-01,  6.52331173e-01,  6.91202998e-01,\n",
       "        7.21627653e-01,  7.53157914e-01,  7.84901738e-01,  8.08835626e-01,\n",
       "        8.35698247e-01,  8.65622222e-01,  8.91912103e-01,  9.13106441e-01,\n",
       "        9.45373356e-01,  9.70658302e-01,  1.01124406e+00,  1.03393626e+00,\n",
       "        9.56466198e-01,  9.19297695e-01,  8.88214767e-01,  8.60167384e-01,\n",
       "        8.38195443e-01,  8.10147941e-01,  7.83324659e-01,  7.47380972e-01,\n",
       "        7.17035472e-01,  6.85138047e-01,  6.56536520e-01,  6.27422154e-01,\n",
       "        5.90333223e-01,  5.62114120e-01,  5.38627446e-01,  5.10377347e-01,\n",
       "        4.80436504e-01,  4.46284384e-01,  4.15787607e-01,  3.82022440e-01,\n",
       "        3.57783258e-01,  3.17807138e-01,  2.91697651e-01,  2.55222857e-01,\n",
       "        2.23860189e-01,  2.02746004e-01,  1.77866876e-01,  1.51112020e-01,\n",
       "        1.21919550e-01,  9.33936462e-02,  6.35619313e-02,  2.11401582e-02,\n",
       "       -8.88244435e-03, -5.05413301e-02,  2.33639926e-02,  5.26511967e-02,\n",
       "        7.33180493e-02,  1.00071810e-01,  1.31372660e-01,  1.62899286e-01,\n",
       "        1.80328786e-01,  2.06877902e-01,  2.31661037e-01,  2.68532932e-01,\n",
       "        3.03733438e-01,  3.31470132e-01,  3.61060500e-01,  3.86615932e-01,\n",
       "        4.12184566e-01,  4.39189911e-01,  4.64076519e-01,  4.91662800e-01,\n",
       "        5.26896834e-01,  5.56861758e-01,  5.90427101e-01,  6.22451365e-01,\n",
       "        6.52446330e-01,  6.78926110e-01,  7.02129066e-01,  7.34625995e-01,\n",
       "        7.65022099e-01,  7.90310502e-01,  8.18826079e-01,  8.55520129e-01,\n",
       "        8.85452569e-01,  9.19072807e-01,  9.52036381e-01,  9.70974565e-01])"
      ]
     },
     "execution_count": 5,
     "metadata": {},
     "output_type": "execute_result"
    }
   ],
   "source": [
    "np.asarray(pos)[:,23,0]"
   ]
  },
  {
   "cell_type": "code",
   "execution_count": 6,
   "metadata": {},
   "outputs": [
    {
     "data": {
      "text/plain": [
       "415"
      ]
     },
     "execution_count": 6,
     "metadata": {},
     "output_type": "execute_result"
    },
    {
     "ename": "",
     "evalue": "",
     "output_type": "error",
     "traceback": [
      "The Kernel crashed while executing code in the the current cell or a previous cell. Please review the code in the cell(s) to identify a possible cause of the failure. Click <a href='https://aka.ms/vscodeJupyterKernelCrash'>here</a> for more info. View Jupyter <a href='command:jupyter.viewOutput'>log</a> for further details."
     ]
    }
   ],
   "source": [
    "len(record)"
   ]
  },
  {
   "cell_type": "code",
   "execution_count": null,
   "metadata": {},
   "outputs": [],
   "source": []
  }
 ],
 "metadata": {
  "kernelspec": {
   "display_name": "Python 3.10.2 64-bit",
   "language": "python",
   "name": "python3"
  },
  "language_info": {
   "codemirror_mode": {
    "name": "ipython",
    "version": 3
   },
   "file_extension": ".py",
   "mimetype": "text/x-python",
   "name": "python",
   "nbconvert_exporter": "python",
   "pygments_lexer": "ipython3",
   "version": "3.10.2"
  },
  "orig_nbformat": 4,
  "vscode": {
   "interpreter": {
    "hash": "0cad00d5a13a3f60cb6d0dee52753d434f6ef86636012a882082aa2fea66afa5"
   }
  }
 },
 "nbformat": 4,
 "nbformat_minor": 2
}
