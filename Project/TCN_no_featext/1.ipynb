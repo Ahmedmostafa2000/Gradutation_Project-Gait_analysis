{
 "cells": [
  {
   "cell_type": "code",
   "execution_count": 1,
   "metadata": {},
   "outputs": [],
   "source": [
    "import pandas as pd\n",
    "import numpy as np\n",
    "import matplotlib.pyplot as plt\n",
    "from keras import Sequential,Model\n",
    "from keras.layers import Conv1D,Input,Softmax,concatenate,InputLayer,Flatten,Dense,Activation\n",
    "import tensorflow as tf"
   ]
  },
  {
   "cell_type": "code",
   "execution_count": 2,
   "metadata": {},
   "outputs": [],
   "source": [
    "df = pd.read_csv('D:\\\\Career\\\\GradProj\\\\Datasets\\\\dataset4.csv')"
   ]
  },
  {
   "cell_type": "code",
   "execution_count": null,
   "metadata": {},
   "outputs": [],
   "source": [
    "df.drop(['Unnamed: 0','window number'],axis = 1,inplace=True)"
   ]
  },
  {
   "cell_type": "code",
   "execution_count": 5,
   "metadata": {},
   "outputs": [],
   "source": [
    "df.drop(['7 x', '8 x', '9 x', '10 x', '11 x', '12 x', '7 y', '8 y', '9 y',\n",
    "        '10 y', '11 y', '12 y', '7 z', '8 z', '9 z', '10 z', '11 z', '12 z'],axis = 1,inplace=True)"
   ]
  },
  {
   "cell_type": "code",
   "execution_count": 9,
   "metadata": {},
   "outputs": [],
   "source": [
    "from keras import Sequential\n",
    "from tcn import TCN"
   ]
  },
  {
   "cell_type": "code",
   "execution_count": 10,
   "metadata": {},
   "outputs": [],
   "source": [
    "# Adding callbacks\n",
    "\n",
    "# class CustomSaver(tf.keras.callbacks.Callback):\n",
    "#     def on_epoch_end(self,model , epoch, logs={}):\n",
    "#         if epoch == 5:  # or save after some epoch, each k-th epoch etc.\n",
    "#             self.model.save(f\"D:\\\\Career\\\\GradProj\\\\Model_no_feat\\\\All_models\\\\{epoch}.hd5\")\n",
    "\n",
    "# saver = CustomSaver()\n",
    "rlr = tf.keras.callbacks.ReduceLROnPlateau(\n",
    "    monitor=\"loss\",\n",
    "    factor=0.6,\n",
    "    patience=4,\n",
    "    )\n",
    "\n",
    "checkpointer = tf.keras.callbacks.ModelCheckpoint(filepath='D:\\\\Career\\\\GradProj\\\\Model_no_feat\\\\Best_model_1.hdf5', verbose=0, save_best_only=True)\n",
    "\n",
    "csv_logger = tf.keras.callbacks.CSVLogger(\"D:\\\\Career\\\\GradProj\\\\Model_no_feat\\\\model_history_log.csv\", append=True)"
   ]
  },
  {
   "cell_type": "code",
   "execution_count": 11,
   "metadata": {},
   "outputs": [],
   "source": [
    "df_windows = np.array(df.iloc[:171000]).reshape(-1,75,42)"
   ]
  },
  {
   "cell_type": "code",
   "execution_count": 18,
   "metadata": {},
   "outputs": [],
   "source": [
    "from keras.layers import UpSampling1D,AveragePooling1D\n",
    "from keras.optimizers import Adam\n",
    "from keras.callbacks import EarlyStopping\n",
    "import time"
   ]
  },
  {
   "cell_type": "code",
   "execution_count": 36,
   "metadata": {},
   "outputs": [],
   "source": [
    "class TCNAE:\n",
    "    \"\"\"\n",
    "    A class used to represent the Temporal Convolutional Autoencoder (TCN-AE).\n",
    "\n",
    "    ...\n",
    "\n",
    "    Attributes\n",
    "    ----------\n",
    "    model : xxtypexx\n",
    "        The TCN-AE model.\n",
    "\n",
    "    Methods\n",
    "    -------\n",
    "    build_model(verbose = 1)\n",
    "        Builds the model\n",
    "    \"\"\"\n",
    "    \n",
    "    model = None\n",
    "    \n",
    "    def __init__(self,\n",
    "                 ts_dimension = 1,\n",
    "                 dilations = (1, 2, 4, 8, 16),\n",
    "                 nb_filters = 42,\n",
    "                 kernel_size = 20,\n",
    "                 nb_stacks = 1,\n",
    "                 padding = 'same',\n",
    "                 dropout_rate = 0.00,\n",
    "                 filters_conv1d = 8,\n",
    "                 activation_conv1d = 'linear',\n",
    "                 latent_sample_rate = 42,\n",
    "                 pooler = AveragePooling1D,\n",
    "                 lr = 0.001,\n",
    "                 conv_kernel_init = 'glorot_normal',\n",
    "                 loss = 'logcosh',\n",
    "                 use_early_stopping = False,\n",
    "                 error_window_length = 128,\n",
    "                 verbose = 1\n",
    "                ):\n",
    "        \"\"\"\n",
    "        Parameters\n",
    "        ----------\n",
    "        ts_dimension : int\n",
    "            The dimension of the time series (default is 1)\n",
    "        dilations : tuple\n",
    "            The dilation rates used in the TCN-AE model (default is (1, 2, 4, 8, 16))\n",
    "        nb_filters : int\n",
    "            The number of filters used in the dilated convolutional layers. All dilated conv. layers use the same number of filters (default is 20)\n",
    "        \"\"\"\n",
    "        \n",
    "        self.ts_dimension = ts_dimension\n",
    "        self.dilations = dilations\n",
    "        self.nb_filters = nb_filters\n",
    "        self.kernel_size = kernel_size\n",
    "        self.nb_stacks = nb_stacks\n",
    "        self.padding = padding\n",
    "        self.dropout_rate = dropout_rate\n",
    "        self.filters_conv1d = filters_conv1d\n",
    "        self.activation_conv1d = activation_conv1d\n",
    "        self.latent_sample_rate = latent_sample_rate\n",
    "        self.pooler = pooler\n",
    "        self.lr = lr\n",
    "        self.conv_kernel_init = conv_kernel_init\n",
    "        self.loss = loss\n",
    "        self.use_early_stopping = use_early_stopping\n",
    "        self.error_window_length = error_window_length\n",
    "        \n",
    "        # build the model\n",
    "        self.build_model(verbose = verbose)\n",
    "        \n",
    "    \n",
    "    def build_model(self, verbose = 1):\n",
    "        \"\"\"Builds the TCN-AE model.\n",
    "\n",
    "        If the argument `verbose` isn't passed in, the default verbosity level is used.\n",
    "\n",
    "        Parameters\n",
    "        ----------\n",
    "        verbose : str, optional\n",
    "            The verbosity level (default is 1)\n",
    "            \n",
    "        Returns\n",
    "        -------\n",
    "        KerasXYZType\n",
    "        Todo\n",
    "\n",
    "        Raises\n",
    "        ------\n",
    "        NotImplementedError\n",
    "            If ...\n",
    "        \"\"\"\n",
    "        \n",
    "        tf.keras.backend.clear_session()\n",
    "        sampling_factor = self.latent_sample_rate\n",
    "        i = Input((75, 42))\n",
    "\n",
    "        # Put signal through TCN. Output-shape: (batch,sequence length, nb_filters)\n",
    "        tcn_enc = TCN(nb_filters=self.nb_filters, kernel_size=self.kernel_size, nb_stacks=self.nb_stacks, dilations=self.dilations, \n",
    "                      padding=self.padding, use_skip_connections=True, dropout_rate=self.dropout_rate, return_sequences=True,\n",
    "                      kernel_initializer=self.conv_kernel_init, name='tcn-enc')(i)\n",
    "\n",
    "        # Now, adjust the number of channels...\n",
    "        enc_flat = Conv1D(filters=self.filters_conv1d, kernel_size=1, activation=self.activation_conv1d, padding=self.padding)(tcn_enc)\n",
    "\n",
    "        ## Do some average (max) pooling to get a compressed representation of the time series (e.g. a sequence of length 8)\n",
    "        enc_pooled = self.pooler(pool_size=sampling_factor, strides=None, padding='valid', data_format='channels_last')(enc_flat)\n",
    "        \n",
    "        # If you want, maybe put the pooled values through a non-linear Activation\n",
    "        enc_out = Activation(\"linear\")(enc_pooled)\n",
    "\n",
    "        # Now we should have a short sequence, which we will upsample again and then try to reconstruct the original series\n",
    "        dec_upsample = UpSampling1D(size=sampling_factor)(enc_out)\n",
    "\n",
    "        dec_reconstructed = TCN(nb_filters=self.nb_filters, kernel_size=self.kernel_size, nb_stacks=self.nb_stacks, dilations=self.dilations, \n",
    "                                padding=self.padding, use_skip_connections=True, dropout_rate=self.dropout_rate, return_sequences=True,\n",
    "                                kernel_initializer=self.conv_kernel_init, name='tcn-dec')(dec_upsample)\n",
    "\n",
    "        # Put the filter-outputs through a dense layer finally, to get the reconstructed signal\n",
    "        o = Dense(self.ts_dimension, activation='linear')(dec_reconstructed)\n",
    "\n",
    "        model = Model(inputs=[i], outputs=[o])\n",
    "\n",
    "        adam = Adam(learning_rate=self.lr, beta_1=0.9, beta_2=0.999, epsilon=1e-08, amsgrad=True)\n",
    "        model.compile(loss=self.loss, optimizer=adam, metrics=[self.loss])\n",
    "        if verbose > 1:\n",
    "            model.summary()\n",
    "        self.model = model\n",
    "    \n",
    "    def fit(self, train_X, train_Y, batch_size=32, epochs=40, verbose = 1):\n",
    "        my_callbacks = None\n",
    "        if self.use_early_stopping:\n",
    "            my_callbacks = [EarlyStopping(monitor='val_loss', patience=2, min_delta=1e-4, restore_best_weights=True),rlr,checkpointer,csv_logger]\n",
    "\n",
    "        keras_verbose = 0\n",
    "        if verbose > 0:\n",
    "            print(\"> Starting the Training...\")\n",
    "            keras_verbose = 2\n",
    "        start = time.time()\n",
    "        history = self.model.fit(train_X, train_Y, \n",
    "                            batch_size=batch_size, \n",
    "                            epochs=epochs, \n",
    "                            validation_split=0.001, \n",
    "                            shuffle=True,\n",
    "                            callbacks=my_callbacks,\n",
    "                            verbose=keras_verbose)\n",
    "        if verbose > 0:\n",
    "            print(\"> Training Time :\", round(time.time() - start), \"seconds.\")\n",
    "    \n",
    "    # def predict(self, test_X):\n",
    "    #     X_rec =  self.model.predict(test_X)\n",
    "        \n",
    "    #     # do some padding in the end, since not necessarily the whole time series is reconstructed\n",
    "    #     X_rec = np.pad(X_rec, ((0,0),(0, test_X.shape[1] - X_rec.shape[1] ), (0,0)), 'constant') \n",
    "    #     E_rec = (X_rec - test_X).squeeze()\n",
    "    #     Err = utilities.slide_window(pandas.DataFrame(E_rec), self.error_window_length, verbose = 0)\n",
    "    #     Err = Err.reshape(-1, Err.shape[-1]*Err.shape[-2])\n",
    "    #     sel = np.random.choice(range(Err.shape[0]),int(Err.shape[0]*0.98))\n",
    "    #     mu = np.mean(Err[sel], axis=0)\n",
    "    #     cov = np.cov(Err[sel], rowvar = False)\n",
    "    #     sq_mahalanobis = utilities.mahalanobis_distance(X=Err[:], cov=cov, mu=mu)\n",
    "    #     # moving average over mahalanobis distance. Only slightly smooths the signal\n",
    "    #     anomaly_score = np.convolve(sq_mahalanobis, np.ones((50,))/50, mode='same')\n",
    "    #     anomaly_score = np.sqrt(anomaly_score)\n",
    "    #     return anomaly_score"
   ]
  },
  {
   "cell_type": "code",
   "execution_count": 49,
   "metadata": {},
   "outputs": [],
   "source": [
    "from keras.layers import Activation"
   ]
  },
  {
   "cell_type": "code",
   "execution_count": 54,
   "metadata": {},
   "outputs": [],
   "source": [
    "def TCNAE():\n",
    "        ts_dimension = 1,\n",
    "        dilations = (1, 2, 4, 8, 16),\n",
    "        nb_filters = 42,\n",
    "        kernel_size = 20,\n",
    "        nb_stacks = 1,\n",
    "        padding = 'same',\n",
    "        dropout_rate = 0.00,\n",
    "        filters_conv1d = 8,\n",
    "        activation_conv1d = 'relu',\n",
    "        latent_sample_rate = 42,\n",
    "        pooler = AveragePooling1D,\n",
    "        lr = 0.001,\n",
    "        conv_kernel_init = 'glorot_normal',\n",
    "        loss = 'logcosh',\n",
    "        use_early_stopping = False,\n",
    "        error_window_length = 128,\n",
    "        verbose = 1\n",
    "        sampling_factor = latent_sample_rate\n",
    "        i = Input((75, 42))\n",
    "\n",
    "        # Put signal through TCN. Output-shape: (batch,sequence length, nb_filters)\n",
    "        tcn_enc = TCN(nb_filters=42, kernel_size=5, nb_stacks=1, dilations=(1, 2, 4, 8, 16), \n",
    "                padding='same', use_skip_connections=True, dropout_rate=.2, return_sequences=True,\n",
    "                kernel_initializer='glorot_normal',input_shape=[75, 42])(i)\n",
    "\n",
    "        # Now, adjust the number of channels...\n",
    "        enc_flat = Conv1D(filters=filters_conv1d, kernel_size=1, activation=activation_conv1d, padding=padding)(tcn_enc)\n",
    "\n",
    "        ## Do some average (max) pooling to get a compressed representation of the time series (e.g. a sequence of length 8)\n",
    "        enc_pooled = pooler(pool_size=sampling_factor, strides=None, padding='valid', data_format='channels_last')(enc_flat)\n",
    "        \n",
    "        # If you want, maybe put the pooled values through a non-linear Activation\n",
    "        enc_out = Activation(\"relu\")(enc_pooled)\n",
    "\n",
    "        # Now we should have a short sequence, which we will upsample again and then try to reconstruct the original series\n",
    "        dec_upsample = UpSampling1D(size=sampling_factor)(enc_out)\n",
    "\n",
    "        dec_reconstructed = TCN(nb_filters=nb_filters, kernel_size=kernel_size, nb_stacks=nb_stacks, dilations=dilations, \n",
    "                                padding=padding, use_skip_connections=True, dropout_rate=dropout_rate, return_sequences=True,\n",
    "                                kernel_initializer=conv_kernel_init, name='tcn-dec')(dec_upsample)\n",
    "\n",
    "        # Put the filter-outputs through a dense layer finally, to get the reconstructed signal\n",
    "        o = Dense(ts_dimension, activation='relu')(dec_reconstructed)\n",
    "\n",
    "        model = Model(inputs=[i], outputs=[o])\n",
    "\n",
    "        adam = Adam(learning_rate=lr, beta_1=0.9, beta_2=0.999, epsilon=1e-08, amsgrad=True)\n",
    "        model.compile(loss=loss, optimizer=adam, metrics=[loss])\n",
    "        return model"
   ]
  },
  {
   "cell_type": "code",
   "execution_count": 55,
   "metadata": {},
   "outputs": [
    {
     "ename": "TypeError",
     "evalue": "Could not interpret activation function identifier: ('relu',)",
     "output_type": "error",
     "traceback": [
      "\u001b[1;31m---------------------------------------------------------------------------\u001b[0m",
      "\u001b[1;31mTypeError\u001b[0m                                 Traceback (most recent call last)",
      "Cell \u001b[1;32mIn[55], line 5\u001b[0m\n\u001b[0;32m      1\u001b[0m \u001b[38;5;66;03m# model = Sequential(\u001b[39;00m\n\u001b[0;32m      2\u001b[0m \u001b[38;5;66;03m#             TCN(nb_filters=42, kernel_size=5, nb_stacks=1, dilations=(1, 2, 4, 8, 16), \u001b[39;00m\n\u001b[0;32m      3\u001b[0m \u001b[38;5;66;03m#             padding='same', use_skip_connections=True, dropout_rate=.2, return_sequences=True,\u001b[39;00m\n\u001b[0;32m      4\u001b[0m \u001b[38;5;66;03m#             kernel_initializer='glorot_normal',input_shape=[75, 42]))\u001b[39;00m\n\u001b[1;32m----> 5\u001b[0m model \u001b[38;5;241m=\u001b[39m \u001b[43mTCNAE\u001b[49m\u001b[43m(\u001b[49m\u001b[43m)\u001b[49m\n",
      "Cell \u001b[1;32mIn[54], line 28\u001b[0m, in \u001b[0;36mTCNAE\u001b[1;34m()\u001b[0m\n\u001b[0;32m     23\u001b[0m tcn_enc \u001b[38;5;241m=\u001b[39m TCN(nb_filters\u001b[38;5;241m=\u001b[39m\u001b[38;5;241m42\u001b[39m, kernel_size\u001b[38;5;241m=\u001b[39m\u001b[38;5;241m5\u001b[39m, nb_stacks\u001b[38;5;241m=\u001b[39m\u001b[38;5;241m1\u001b[39m, dilations\u001b[38;5;241m=\u001b[39m(\u001b[38;5;241m1\u001b[39m, \u001b[38;5;241m2\u001b[39m, \u001b[38;5;241m4\u001b[39m, \u001b[38;5;241m8\u001b[39m, \u001b[38;5;241m16\u001b[39m), \n\u001b[0;32m     24\u001b[0m         padding\u001b[38;5;241m=\u001b[39m\u001b[38;5;124m'\u001b[39m\u001b[38;5;124msame\u001b[39m\u001b[38;5;124m'\u001b[39m, use_skip_connections\u001b[38;5;241m=\u001b[39m\u001b[38;5;28;01mTrue\u001b[39;00m, dropout_rate\u001b[38;5;241m=\u001b[39m\u001b[38;5;241m.2\u001b[39m, return_sequences\u001b[38;5;241m=\u001b[39m\u001b[38;5;28;01mTrue\u001b[39;00m,\n\u001b[0;32m     25\u001b[0m         kernel_initializer\u001b[38;5;241m=\u001b[39m\u001b[38;5;124m'\u001b[39m\u001b[38;5;124mglorot_normal\u001b[39m\u001b[38;5;124m'\u001b[39m,input_shape\u001b[38;5;241m=\u001b[39m[\u001b[38;5;241m75\u001b[39m, \u001b[38;5;241m42\u001b[39m])(i)\n\u001b[0;32m     27\u001b[0m \u001b[38;5;66;03m# Now, adjust the number of channels...\u001b[39;00m\n\u001b[1;32m---> 28\u001b[0m enc_flat \u001b[38;5;241m=\u001b[39m \u001b[43mConv1D\u001b[49m\u001b[43m(\u001b[49m\u001b[43mfilters\u001b[49m\u001b[38;5;241;43m=\u001b[39;49m\u001b[43mfilters_conv1d\u001b[49m\u001b[43m,\u001b[49m\u001b[43m \u001b[49m\u001b[43mkernel_size\u001b[49m\u001b[38;5;241;43m=\u001b[39;49m\u001b[38;5;241;43m1\u001b[39;49m\u001b[43m,\u001b[49m\u001b[43m \u001b[49m\u001b[43mactivation\u001b[49m\u001b[38;5;241;43m=\u001b[39;49m\u001b[43mactivation_conv1d\u001b[49m\u001b[43m,\u001b[49m\u001b[43m \u001b[49m\u001b[43mpadding\u001b[49m\u001b[38;5;241;43m=\u001b[39;49m\u001b[43mpadding\u001b[49m\u001b[43m)\u001b[49m(tcn_enc)\n\u001b[0;32m     30\u001b[0m \u001b[38;5;66;03m## Do some average (max) pooling to get a compressed representation of the time series (e.g. a sequence of length 8)\u001b[39;00m\n\u001b[0;32m     31\u001b[0m enc_pooled \u001b[38;5;241m=\u001b[39m pooler(pool_size\u001b[38;5;241m=\u001b[39msampling_factor, strides\u001b[38;5;241m=\u001b[39m\u001b[38;5;28;01mNone\u001b[39;00m, padding\u001b[38;5;241m=\u001b[39m\u001b[38;5;124m'\u001b[39m\u001b[38;5;124mvalid\u001b[39m\u001b[38;5;124m'\u001b[39m, data_format\u001b[38;5;241m=\u001b[39m\u001b[38;5;124m'\u001b[39m\u001b[38;5;124mchannels_last\u001b[39m\u001b[38;5;124m'\u001b[39m)(enc_flat)\n",
      "File \u001b[1;32mc:\\Users\\ahmed\\AppData\\Local\\Programs\\Python\\Python310\\lib\\site-packages\\keras\\dtensor\\utils.py:96\u001b[0m, in \u001b[0;36mallow_initializer_layout.<locals>._wrap_function\u001b[1;34m(layer_instance, *args, **kwargs)\u001b[0m\n\u001b[0;32m     93\u001b[0m         \u001b[39mif\u001b[39;00m layout:\n\u001b[0;32m     94\u001b[0m             layout_args[variable_name \u001b[39m+\u001b[39m \u001b[39m\"\u001b[39m\u001b[39m_layout\u001b[39m\u001b[39m\"\u001b[39m] \u001b[39m=\u001b[39m layout\n\u001b[1;32m---> 96\u001b[0m init_method(layer_instance, \u001b[39m*\u001b[39margs, \u001b[39m*\u001b[39m\u001b[39m*\u001b[39mkwargs)\n\u001b[0;32m     98\u001b[0m \u001b[39m# Inject the layout parameter after the invocation of __init__()\u001b[39;00m\n\u001b[0;32m     99\u001b[0m \u001b[39mfor\u001b[39;00m layout_param_name, layout \u001b[39min\u001b[39;00m layout_args\u001b[39m.\u001b[39mitems():\n",
      "File \u001b[1;32mc:\\Users\\ahmed\\AppData\\Local\\Programs\\Python\\Python310\\lib\\site-packages\\keras\\layers\\convolutional\\conv1d.py:165\u001b[0m, in \u001b[0;36mConv1D.__init__\u001b[1;34m(self, filters, kernel_size, strides, padding, data_format, dilation_rate, groups, activation, use_bias, kernel_initializer, bias_initializer, kernel_regularizer, bias_regularizer, activity_regularizer, kernel_constraint, bias_constraint, **kwargs)\u001b[0m\n\u001b[0;32m    135\u001b[0m \u001b[39m@utils\u001b[39m\u001b[39m.\u001b[39mallow_initializer_layout\n\u001b[0;32m    136\u001b[0m \u001b[39mdef\u001b[39;00m \u001b[39m__init__\u001b[39m(\n\u001b[0;32m    137\u001b[0m     \u001b[39mself\u001b[39m,\n\u001b[1;32m   (...)\u001b[0m\n\u001b[0;32m    154\u001b[0m     \u001b[39m*\u001b[39m\u001b[39m*\u001b[39mkwargs\n\u001b[0;32m    155\u001b[0m ):\n\u001b[0;32m    156\u001b[0m     \u001b[39msuper\u001b[39m()\u001b[39m.\u001b[39m\u001b[39m__init__\u001b[39m(\n\u001b[0;32m    157\u001b[0m         rank\u001b[39m=\u001b[39m\u001b[39m1\u001b[39m,\n\u001b[0;32m    158\u001b[0m         filters\u001b[39m=\u001b[39mfilters,\n\u001b[0;32m    159\u001b[0m         kernel_size\u001b[39m=\u001b[39mkernel_size,\n\u001b[0;32m    160\u001b[0m         strides\u001b[39m=\u001b[39mstrides,\n\u001b[0;32m    161\u001b[0m         padding\u001b[39m=\u001b[39mpadding,\n\u001b[0;32m    162\u001b[0m         data_format\u001b[39m=\u001b[39mdata_format,\n\u001b[0;32m    163\u001b[0m         dilation_rate\u001b[39m=\u001b[39mdilation_rate,\n\u001b[0;32m    164\u001b[0m         groups\u001b[39m=\u001b[39mgroups,\n\u001b[1;32m--> 165\u001b[0m         activation\u001b[39m=\u001b[39mactivations\u001b[39m.\u001b[39;49mget(activation),\n\u001b[0;32m    166\u001b[0m         use_bias\u001b[39m=\u001b[39muse_bias,\n\u001b[0;32m    167\u001b[0m         kernel_initializer\u001b[39m=\u001b[39minitializers\u001b[39m.\u001b[39mget(kernel_initializer),\n\u001b[0;32m    168\u001b[0m         bias_initializer\u001b[39m=\u001b[39minitializers\u001b[39m.\u001b[39mget(bias_initializer),\n\u001b[0;32m    169\u001b[0m         kernel_regularizer\u001b[39m=\u001b[39mregularizers\u001b[39m.\u001b[39mget(kernel_regularizer),\n\u001b[0;32m    170\u001b[0m         bias_regularizer\u001b[39m=\u001b[39mregularizers\u001b[39m.\u001b[39mget(bias_regularizer),\n\u001b[0;32m    171\u001b[0m         activity_regularizer\u001b[39m=\u001b[39mregularizers\u001b[39m.\u001b[39mget(activity_regularizer),\n\u001b[0;32m    172\u001b[0m         kernel_constraint\u001b[39m=\u001b[39mconstraints\u001b[39m.\u001b[39mget(kernel_constraint),\n\u001b[0;32m    173\u001b[0m         bias_constraint\u001b[39m=\u001b[39mconstraints\u001b[39m.\u001b[39mget(bias_constraint),\n\u001b[0;32m    174\u001b[0m         \u001b[39m*\u001b[39m\u001b[39m*\u001b[39mkwargs\n\u001b[0;32m    175\u001b[0m     )\n",
      "File \u001b[1;32mc:\\Users\\ahmed\\AppData\\Local\\Programs\\Python\\Python310\\lib\\site-packages\\tensorflow\\python\\util\\traceback_utils.py:153\u001b[0m, in \u001b[0;36mfilter_traceback.<locals>.error_handler\u001b[1;34m(*args, **kwargs)\u001b[0m\n\u001b[0;32m    151\u001b[0m \u001b[39mexcept\u001b[39;00m \u001b[39mException\u001b[39;00m \u001b[39mas\u001b[39;00m e:\n\u001b[0;32m    152\u001b[0m   filtered_tb \u001b[39m=\u001b[39m _process_traceback_frames(e\u001b[39m.\u001b[39m__traceback__)\n\u001b[1;32m--> 153\u001b[0m   \u001b[39mraise\u001b[39;00m e\u001b[39m.\u001b[39mwith_traceback(filtered_tb) \u001b[39mfrom\u001b[39;00m \u001b[39mNone\u001b[39m\n\u001b[0;32m    154\u001b[0m \u001b[39mfinally\u001b[39;00m:\n\u001b[0;32m    155\u001b[0m   \u001b[39mdel\u001b[39;00m filtered_tb\n",
      "File \u001b[1;32mc:\\Users\\ahmed\\AppData\\Local\\Programs\\Python\\Python310\\lib\\site-packages\\keras\\activations.py:613\u001b[0m, in \u001b[0;36mget\u001b[1;34m(identifier)\u001b[0m\n\u001b[0;32m    611\u001b[0m     \u001b[39mreturn\u001b[39;00m identifier\n\u001b[0;32m    612\u001b[0m \u001b[39melse\u001b[39;00m:\n\u001b[1;32m--> 613\u001b[0m     \u001b[39mraise\u001b[39;00m \u001b[39mTypeError\u001b[39;00m(\n\u001b[0;32m    614\u001b[0m         \u001b[39mf\u001b[39m\u001b[39m\"\u001b[39m\u001b[39mCould not interpret activation function identifier: \u001b[39m\u001b[39m{\u001b[39;00midentifier\u001b[39m}\u001b[39;00m\u001b[39m\"\u001b[39m\n\u001b[0;32m    615\u001b[0m     )\n",
      "\u001b[1;31mTypeError\u001b[0m: Could not interpret activation function identifier: ('relu',)"
     ]
    }
   ],
   "source": [
    "# model = Sequential(\n",
    "#             TCN(nb_filters=42, kernel_size=5, nb_stacks=1, dilations=(1, 2, 4, 8, 16), \n",
    "#             padding='same', use_skip_connections=True, dropout_rate=.2, return_sequences=True,\n",
    "#             kernel_initializer='glorot_normal',input_shape=[75, 42]))\n",
    "model = TCNAE()"
   ]
  },
  {
   "cell_type": "code",
   "execution_count": 21,
   "metadata": {},
   "outputs": [],
   "source": [
    "from keras.layers import Dropout,MaxPooling1D,UpSampling1D,Reshape\n",
    "from sklearn.model_selection import train_test_split"
   ]
  },
  {
   "cell_type": "code",
   "execution_count": 158,
   "metadata": {},
   "outputs": [],
   "source": [
    "# def cnn2(trainX, trainy, testX, testy):\n",
    "#     verbose, epochs, batch_size = 0, 10, 32\n",
    "#     n_timesteps, n_features, n_outputs = trainX.shape[1], trainX.shape[2], trainy.shape[1]\n",
    "#     # head 1\n",
    "#     inputs1 = Input(shape=(n_timesteps,n_features))\n",
    "#     conv1 = Conv1D(filters=64, kernel_size=3, activation='relu')(inputs1)\n",
    "#     drop1 = Dropout(0.5)(conv1)\n",
    "#     pool1 = MaxPooling1D(pool_size=2)(drop1)\n",
    "#     flat1 = Flatten()(pool1)\n",
    "#     # head 2\n",
    "#     inputs2 = Input(shape=(n_timesteps,n_features))\n",
    "#     conv2 = Conv1D(filters=64, kernel_size=5, activation='relu')(inputs2)\n",
    "#     drop2 = Dropout(0.5)(conv2)\n",
    "#     pool2 = MaxPooling1D(pool_size=2)(drop2)\n",
    "#     flat2 = Flatten()(pool2)\n",
    "#     # head 3\n",
    "#     inputs3 = Input(shape=(n_timesteps,n_features))\n",
    "#     conv3 = Conv1D(filters=64, kernel_size=11, activation='relu')(inputs3)\n",
    "#     drop3 = Dropout(0.5)(conv3)\n",
    "#     pool3 = MaxPooling1D(pool_size=2)(drop3)\n",
    "#     flat3 = Flatten()(pool3)\n",
    "#     # merge\n",
    "#     merged = concatenate([flat1, flat2, flat3])\n",
    "#     # interpretation\n",
    "#     flat = Flatten()(merged)\n",
    "#     dense1 = Dense(100, activation='relu')(flat)\n",
    "\n",
    "#     funnel = Dense(60, activation='relu')(dense1)\n",
    "#     d2 = Reshape((15,4))(funnel)\n",
    "#     conv4 = Conv1D(filters=30, kernel_size=5, activation='relu')(d2)\n",
    "#     conv5 = Conv1D(filters=60, kernel_size=5, activation='relu')(conv4)\n",
    "#     # d4 = UpSampling1D(2)(conv5)\n",
    "#     # conv6 = Conv1D(filters=64, kernel_size=5, activation='relu')(d4)\n",
    "#     # d4 = UpSampling1D(2)(conv6)\n",
    "#     # decoded = Conv1D(1,1,strides=1, activation='sigmoid', padding='same')(d4)\n",
    "#     d4 = UpSampling1D(2)(conv5)\n",
    "#     d5 = UpSampling1D(2)(d4)\n",
    "#     # d6 = Reshape((75,60))(d5)\n",
    "#     conv6 = Conv1D(filters=60, kernel_size=5, activation='relu')(d5)\n",
    "#     model = Model(inputs=[inputs1, inputs2, inputs3], outputs=conv6)\n",
    "#     return model"
   ]
  },
  {
   "cell_type": "code",
   "execution_count": 105,
   "metadata": {},
   "outputs": [],
   "source": [
    "# X = df_windows.copy()"
   ]
  },
  {
   "cell_type": "code",
   "execution_count": 110,
   "metadata": {},
   "outputs": [
    {
     "data": {
      "text/plain": [
       "((2280, 75, 60), (2280, 75, 60))"
      ]
     },
     "execution_count": 110,
     "metadata": {},
     "output_type": "execute_result"
    }
   ],
   "source": [
    "# df_windows.shape,X.shape"
   ]
  },
  {
   "cell_type": "code",
   "execution_count": 22,
   "metadata": {},
   "outputs": [],
   "source": [
    "X_train, X_test, y_train, y_test = train_test_split(df_windows, df_windows, test_size=0.20, random_state=42)"
   ]
  },
  {
   "cell_type": "code",
   "execution_count": 159,
   "metadata": {},
   "outputs": [],
   "source": [
    "# model2 = cnn2(X_train,y_train,X_test,y_test)"
   ]
  },
  {
   "cell_type": "code",
   "execution_count": 160,
   "metadata": {},
   "outputs": [
    {
     "name": "stdout",
     "output_type": "stream",
     "text": [
      "Model: \"model_7\"\n",
      "__________________________________________________________________________________________________\n",
      " Layer (type)                   Output Shape         Param #     Connected to                     \n",
      "==================================================================================================\n",
      " input_46 (InputLayer)          [(None, 75, 60)]     0           []                               \n",
      "                                                                                                  \n",
      " input_47 (InputLayer)          [(None, 75, 60)]     0           []                               \n",
      "                                                                                                  \n",
      " input_48 (InputLayer)          [(None, 75, 60)]     0           []                               \n",
      "                                                                                                  \n",
      " conv1d_68 (Conv1D)             (None, 73, 64)       11584       ['input_46[0][0]']               \n",
      "                                                                                                  \n",
      " conv1d_69 (Conv1D)             (None, 71, 64)       19264       ['input_47[0][0]']               \n",
      "                                                                                                  \n",
      " conv1d_70 (Conv1D)             (None, 65, 64)       42304       ['input_48[0][0]']               \n",
      "                                                                                                  \n",
      " dropout_45 (Dropout)           (None, 73, 64)       0           ['conv1d_68[0][0]']              \n",
      "                                                                                                  \n",
      " dropout_46 (Dropout)           (None, 71, 64)       0           ['conv1d_69[0][0]']              \n",
      "                                                                                                  \n",
      " dropout_47 (Dropout)           (None, 65, 64)       0           ['conv1d_70[0][0]']              \n",
      "                                                                                                  \n",
      " max_pooling1d_45 (MaxPooling1D  (None, 36, 64)      0           ['dropout_45[0][0]']             \n",
      " )                                                                                                \n",
      "                                                                                                  \n",
      " max_pooling1d_46 (MaxPooling1D  (None, 35, 64)      0           ['dropout_46[0][0]']             \n",
      " )                                                                                                \n",
      "                                                                                                  \n",
      " max_pooling1d_47 (MaxPooling1D  (None, 32, 64)      0           ['dropout_47[0][0]']             \n",
      " )                                                                                                \n",
      "                                                                                                  \n",
      " flatten_55 (Flatten)           (None, 2304)         0           ['max_pooling1d_45[0][0]']       \n",
      "                                                                                                  \n",
      " flatten_56 (Flatten)           (None, 2240)         0           ['max_pooling1d_46[0][0]']       \n",
      "                                                                                                  \n",
      " flatten_57 (Flatten)           (None, 2048)         0           ['max_pooling1d_47[0][0]']       \n",
      "                                                                                                  \n",
      " concatenate_15 (Concatenate)   (None, 6592)         0           ['flatten_55[0][0]',             \n",
      "                                                                  'flatten_56[0][0]',             \n",
      "                                                                  'flatten_57[0][0]']             \n",
      "                                                                                                  \n",
      " flatten_58 (Flatten)           (None, 6592)         0           ['concatenate_15[0][0]']         \n",
      "                                                                                                  \n",
      " dense_28 (Dense)               (None, 100)          659300      ['flatten_58[0][0]']             \n",
      "                                                                                                  \n",
      " dense_29 (Dense)               (None, 60)           6060        ['dense_28[0][0]']               \n",
      "                                                                                                  \n",
      " reshape_10 (Reshape)           (None, 15, 4)        0           ['dense_29[0][0]']               \n",
      "                                                                                                  \n",
      " conv1d_71 (Conv1D)             (None, 11, 30)       630         ['reshape_10[0][0]']             \n",
      "                                                                                                  \n",
      " conv1d_72 (Conv1D)             (None, 7, 60)        9060        ['conv1d_71[0][0]']              \n",
      "                                                                                                  \n",
      " up_sampling1d_10 (UpSampling1D  (None, 14, 60)      0           ['conv1d_72[0][0]']              \n",
      " )                                                                                                \n",
      "                                                                                                  \n",
      " up_sampling1d_11 (UpSampling1D  (None, 28, 60)      0           ['up_sampling1d_10[0][0]']       \n",
      " )                                                                                                \n",
      "                                                                                                  \n",
      " conv1d_73 (Conv1D)             (None, 24, 60)       18060       ['up_sampling1d_11[0][0]']       \n",
      "                                                                                                  \n",
      "==================================================================================================\n",
      "Total params: 766,262\n",
      "Trainable params: 766,262\n",
      "Non-trainable params: 0\n",
      "__________________________________________________________________________________________________\n"
     ]
    }
   ],
   "source": [
    "# model2.summary()"
   ]
  },
  {
   "cell_type": "code",
   "execution_count": 106,
   "metadata": {},
   "outputs": [
    {
     "data": {
      "text/plain": [
       "array([[None, None, None, ..., None, None, None],\n",
       "       [None, None, None, ..., None, None, None],\n",
       "       [None, None, None, ..., None, None, None],\n",
       "       ...,\n",
       "       [None, None, None, ..., None, None, None],\n",
       "       [None, None, None, ..., None, None, None],\n",
       "       [None, None, None, ..., None, None, None]], dtype=object)"
      ]
     },
     "execution_count": 106,
     "metadata": {},
     "output_type": "execute_result"
    }
   ],
   "source": [
    "# np.apply_along_axis(np.random.shuffle,1,X) "
   ]
  },
  {
   "cell_type": "code",
   "execution_count": 120,
   "metadata": {},
   "outputs": [
    {
     "data": {
      "text/plain": [
       "True"
      ]
     },
     "execution_count": 120,
     "metadata": {},
     "output_type": "execute_result"
    }
   ],
   "source": [
    "#Is shuffled?\n",
    "df_windows[0][0][20]==-0.0070042377642942"
   ]
  },
  {
   "cell_type": "code",
   "execution_count": 107,
   "metadata": {},
   "outputs": [
    {
     "data": {
      "text/plain": [
       "(2280, 75, 60)"
      ]
     },
     "execution_count": 107,
     "metadata": {},
     "output_type": "execute_result"
    }
   ],
   "source": [
    "# X.shape"
   ]
  },
  {
   "cell_type": "code",
   "execution_count": 113,
   "metadata": {},
   "outputs": [
    {
     "data": {
      "text/plain": [
       "[<matplotlib.lines.Line2D at 0x24e89ca1d20>]"
      ]
     },
     "execution_count": 113,
     "metadata": {},
     "output_type": "execute_result"
    },
    {
     "data": {
      "image/png": "[encoded data removed]",
      "text/plain": [
       "<Figure size 640x480 with 1 Axes>"
      ]
     },
     "metadata": {},
     "output_type": "display_data"
    }
   ],
   "source": [
    "# plt.plot(df_windows[0,:,20])\n",
    "\n",
    "# plt.plot(X[0,:,20],color = 'gold')"
   ]
  },
  {
   "cell_type": "code",
   "execution_count": 28,
   "metadata": {},
   "outputs": [
    {
     "data": {
      "text/plain": [
       "(60,)"
      ]
     },
     "execution_count": 28,
     "metadata": {},
     "output_type": "execute_result"
    }
   ],
   "source": [
    "df_windows[0][:][21].shape"
   ]
  },
  {
   "cell_type": "code",
   "execution_count": 29,
   "metadata": {},
   "outputs": [
    {
     "ename": "AttributeError",
     "evalue": "'TCNAE' object has no attribute 'compile'",
     "output_type": "error",
     "traceback": [
      "\u001b[1;31m---------------------------------------------------------------------------\u001b[0m",
      "\u001b[1;31mAttributeError\u001b[0m                            Traceback (most recent call last)",
      "Cell \u001b[1;32mIn[29], line 1\u001b[0m\n\u001b[1;32m----> 1\u001b[0m \u001b[43mmodel\u001b[49m\u001b[38;5;241;43m.\u001b[39;49m\u001b[43mcompile\u001b[49m(optimizer\u001b[38;5;241m=\u001b[39mtf\u001b[38;5;241m.\u001b[39mkeras\u001b[38;5;241m.\u001b[39moptimizers\u001b[38;5;241m.\u001b[39mAdam(learning_rate\u001b[38;5;241m=\u001b[39m\u001b[38;5;241m0.001\u001b[39m), \n\u001b[0;32m      2\u001b[0m                         loss\u001b[38;5;241m=\u001b[39mtf\u001b[38;5;241m.\u001b[39mkeras\u001b[38;5;241m.\u001b[39mlosses\u001b[38;5;241m.\u001b[39mMeanSquaredError(), \n\u001b[0;32m      3\u001b[0m                         metrics\u001b[38;5;241m=\u001b[39m[\u001b[38;5;124m'\u001b[39m\u001b[38;5;124maccuracy\u001b[39m\u001b[38;5;124m'\u001b[39m])\n",
      "\u001b[1;31mAttributeError\u001b[0m: 'TCNAE' object has no attribute 'compile'"
     ]
    }
   ],
   "source": [
    "# model.compile(optimizer=tf.keras.optimizers.Adam(learning_rate=0.001), \n",
    "#                         loss=tf.keras.losses.MeanSquaredError(), \n",
    "#                         metrics=['accuracy'])"
   ]
  },
  {
   "cell_type": "code",
   "execution_count": 38,
   "metadata": {},
   "outputs": [
    {
     "name": "stdout",
     "output_type": "stream",
     "text": [
      "> Starting the Training...\n",
      "Epoch 1/100\n"
     ]
    },
    {
     "ename": "ValueError",
     "evalue": "in user code:\n\n    File \"c:\\Users\\ahmed\\AppData\\Local\\Programs\\Python\\Python310\\lib\\site-packages\\keras\\engine\\training.py\", line 1249, in train_function  *\n        return step_function(self, iterator)\n    File \"c:\\Users\\ahmed\\AppData\\Local\\Programs\\Python\\Python310\\lib\\site-packages\\keras\\engine\\training.py\", line 1233, in step_function  **\n        outputs = model.distribute_strategy.run(run_step, args=(data,))\n    File \"c:\\Users\\ahmed\\AppData\\Local\\Programs\\Python\\Python310\\lib\\site-packages\\keras\\engine\\training.py\", line 1222, in run_step  **\n        outputs = model.train_step(data)\n    File \"c:\\Users\\ahmed\\AppData\\Local\\Programs\\Python\\Python310\\lib\\site-packages\\keras\\engine\\training.py\", line 1024, in train_step\n        loss = self.compute_loss(x, y, y_pred, sample_weight)\n    File \"c:\\Users\\ahmed\\AppData\\Local\\Programs\\Python\\Python310\\lib\\site-packages\\keras\\engine\\training.py\", line 1082, in compute_loss\n        return self.compiled_loss(\n    File \"c:\\Users\\ahmed\\AppData\\Local\\Programs\\Python\\Python310\\lib\\site-packages\\keras\\engine\\compile_utils.py\", line 265, in __call__\n        loss_value = loss_obj(y_t, y_p, sample_weight=sw)\n    File \"c:\\Users\\ahmed\\AppData\\Local\\Programs\\Python\\Python310\\lib\\site-packages\\keras\\losses.py\", line 152, in __call__\n        losses = call_fn(y_true, y_pred)\n    File \"c:\\Users\\ahmed\\AppData\\Local\\Programs\\Python\\Python310\\lib\\site-packages\\keras\\losses.py\", line 284, in call  **\n        return ag_fn(y_true, y_pred, **self._fn_kwargs)\n    File \"c:\\Users\\ahmed\\AppData\\Local\\Programs\\Python\\Python310\\lib\\site-packages\\keras\\losses.py\", line 1949, in log_cosh\n        return backend.mean(_logcosh(y_pred - y_true), axis=-1)\n\n    ValueError: Dimensions must be equal, but are 42 and 75 for '{{node log_cosh/sub}} = Sub[T=DT_FLOAT](model/dense/BiasAdd, IteratorGetNext:1)' with input shapes: [?,42,1], [?,75,42].\n",
     "output_type": "error",
     "traceback": [
      "\u001b[1;31m---------------------------------------------------------------------------\u001b[0m",
      "\u001b[1;31mValueError\u001b[0m                                Traceback (most recent call last)",
      "Cell \u001b[1;32mIn[38], line 2\u001b[0m\n\u001b[0;32m      1\u001b[0m \u001b[38;5;66;03m# training\u001b[39;00m\n\u001b[1;32m----> 2\u001b[0m \u001b[43mmodel\u001b[49m\u001b[38;5;241;43m.\u001b[39;49m\u001b[43mfit\u001b[49m\u001b[43m(\u001b[49m\u001b[43m  \u001b[49m\u001b[43mX_train\u001b[49m\u001b[43m,\u001b[49m\u001b[43m \u001b[49m\u001b[43my_train\u001b[49m\u001b[43m,\u001b[49m\n\u001b[0;32m      3\u001b[0m \u001b[43m            \u001b[49m\u001b[43mepochs\u001b[49m\u001b[38;5;241;43m=\u001b[39;49m\u001b[38;5;241;43m100\u001b[39;49m\u001b[43m,\u001b[49m\n\u001b[0;32m      4\u001b[0m \u001b[43m            \u001b[49m\u001b[38;5;66;43;03m# callbacks=[rlr,checkpointer,csv_logger],\u001b[39;49;00m\n\u001b[0;32m      5\u001b[0m \u001b[43m            \u001b[49m\u001b[43mbatch_size\u001b[49m\u001b[38;5;241;43m=\u001b[39;49m\u001b[38;5;241;43m32\u001b[39;49m\u001b[43m)\u001b[49m\n",
      "Cell \u001b[1;32mIn[36], line 138\u001b[0m, in \u001b[0;36mTCNAE.fit\u001b[1;34m(self, train_X, train_Y, batch_size, epochs, verbose)\u001b[0m\n\u001b[0;32m    136\u001b[0m     keras_verbose \u001b[38;5;241m=\u001b[39m \u001b[38;5;241m2\u001b[39m\n\u001b[0;32m    137\u001b[0m start \u001b[38;5;241m=\u001b[39m time\u001b[38;5;241m.\u001b[39mtime()\n\u001b[1;32m--> 138\u001b[0m history \u001b[38;5;241m=\u001b[39m \u001b[38;5;28;43mself\u001b[39;49m\u001b[38;5;241;43m.\u001b[39;49m\u001b[43mmodel\u001b[49m\u001b[38;5;241;43m.\u001b[39;49m\u001b[43mfit\u001b[49m\u001b[43m(\u001b[49m\u001b[43mtrain_X\u001b[49m\u001b[43m,\u001b[49m\u001b[43m \u001b[49m\u001b[43mtrain_Y\u001b[49m\u001b[43m,\u001b[49m\u001b[43m \u001b[49m\n\u001b[0;32m    139\u001b[0m \u001b[43m                    \u001b[49m\u001b[43mbatch_size\u001b[49m\u001b[38;5;241;43m=\u001b[39;49m\u001b[43mbatch_size\u001b[49m\u001b[43m,\u001b[49m\u001b[43m \u001b[49m\n\u001b[0;32m    140\u001b[0m \u001b[43m                    \u001b[49m\u001b[43mepochs\u001b[49m\u001b[38;5;241;43m=\u001b[39;49m\u001b[43mepochs\u001b[49m\u001b[43m,\u001b[49m\u001b[43m \u001b[49m\n\u001b[0;32m    141\u001b[0m \u001b[43m                    \u001b[49m\u001b[43mvalidation_split\u001b[49m\u001b[38;5;241;43m=\u001b[39;49m\u001b[38;5;241;43m0.001\u001b[39;49m\u001b[43m,\u001b[49m\u001b[43m \u001b[49m\n\u001b[0;32m    142\u001b[0m \u001b[43m                    \u001b[49m\u001b[43mshuffle\u001b[49m\u001b[38;5;241;43m=\u001b[39;49m\u001b[38;5;28;43;01mTrue\u001b[39;49;00m\u001b[43m,\u001b[49m\n\u001b[0;32m    143\u001b[0m \u001b[43m                    \u001b[49m\u001b[43mcallbacks\u001b[49m\u001b[38;5;241;43m=\u001b[39;49m\u001b[43mmy_callbacks\u001b[49m\u001b[43m,\u001b[49m\n\u001b[0;32m    144\u001b[0m \u001b[43m                    \u001b[49m\u001b[43mverbose\u001b[49m\u001b[38;5;241;43m=\u001b[39;49m\u001b[43mkeras_verbose\u001b[49m\u001b[43m)\u001b[49m\n\u001b[0;32m    145\u001b[0m \u001b[38;5;28;01mif\u001b[39;00m verbose \u001b[38;5;241m>\u001b[39m \u001b[38;5;241m0\u001b[39m:\n\u001b[0;32m    146\u001b[0m     \u001b[38;5;28mprint\u001b[39m(\u001b[38;5;124m\"\u001b[39m\u001b[38;5;124m> Training Time :\u001b[39m\u001b[38;5;124m\"\u001b[39m, \u001b[38;5;28mround\u001b[39m(time\u001b[38;5;241m.\u001b[39mtime() \u001b[38;5;241m-\u001b[39m start), \u001b[38;5;124m\"\u001b[39m\u001b[38;5;124mseconds.\u001b[39m\u001b[38;5;124m\"\u001b[39m)\n",
      "File \u001b[1;32mc:\\Users\\ahmed\\AppData\\Local\\Programs\\Python\\Python310\\lib\\site-packages\\keras\\utils\\traceback_utils.py:70\u001b[0m, in \u001b[0;36mfilter_traceback.<locals>.error_handler\u001b[1;34m(*args, **kwargs)\u001b[0m\n\u001b[0;32m     67\u001b[0m     filtered_tb \u001b[39m=\u001b[39m _process_traceback_frames(e\u001b[39m.\u001b[39m__traceback__)\n\u001b[0;32m     68\u001b[0m     \u001b[39m# To get the full stack trace, call:\u001b[39;00m\n\u001b[0;32m     69\u001b[0m     \u001b[39m# `tf.debugging.disable_traceback_filtering()`\u001b[39;00m\n\u001b[1;32m---> 70\u001b[0m     \u001b[39mraise\u001b[39;00m e\u001b[39m.\u001b[39mwith_traceback(filtered_tb) \u001b[39mfrom\u001b[39;00m \u001b[39mNone\u001b[39m\n\u001b[0;32m     71\u001b[0m \u001b[39mfinally\u001b[39;00m:\n\u001b[0;32m     72\u001b[0m     \u001b[39mdel\u001b[39;00m filtered_tb\n",
      "File \u001b[1;32m~\\AppData\\Local\\Temp\\__autograph_generated_filek9zds38s.py:15\u001b[0m, in \u001b[0;36mouter_factory.<locals>.inner_factory.<locals>.tf__train_function\u001b[1;34m(iterator)\u001b[0m\n\u001b[0;32m     13\u001b[0m \u001b[39mtry\u001b[39;00m:\n\u001b[0;32m     14\u001b[0m     do_return \u001b[39m=\u001b[39m \u001b[39mTrue\u001b[39;00m\n\u001b[1;32m---> 15\u001b[0m     retval_ \u001b[39m=\u001b[39m ag__\u001b[39m.\u001b[39mconverted_call(ag__\u001b[39m.\u001b[39mld(step_function), (ag__\u001b[39m.\u001b[39mld(\u001b[39mself\u001b[39m), ag__\u001b[39m.\u001b[39mld(iterator)), \u001b[39mNone\u001b[39;00m, fscope)\n\u001b[0;32m     16\u001b[0m \u001b[39mexcept\u001b[39;00m:\n\u001b[0;32m     17\u001b[0m     do_return \u001b[39m=\u001b[39m \u001b[39mFalse\u001b[39;00m\n",
      "\u001b[1;31mValueError\u001b[0m: in user code:\n\n    File \"c:\\Users\\ahmed\\AppData\\Local\\Programs\\Python\\Python310\\lib\\site-packages\\keras\\engine\\training.py\", line 1249, in train_function  *\n        return step_function(self, iterator)\n    File \"c:\\Users\\ahmed\\AppData\\Local\\Programs\\Python\\Python310\\lib\\site-packages\\keras\\engine\\training.py\", line 1233, in step_function  **\n        outputs = model.distribute_strategy.run(run_step, args=(data,))\n    File \"c:\\Users\\ahmed\\AppData\\Local\\Programs\\Python\\Python310\\lib\\site-packages\\keras\\engine\\training.py\", line 1222, in run_step  **\n        outputs = model.train_step(data)\n    File \"c:\\Users\\ahmed\\AppData\\Local\\Programs\\Python\\Python310\\lib\\site-packages\\keras\\engine\\training.py\", line 1024, in train_step\n        loss = self.compute_loss(x, y, y_pred, sample_weight)\n    File \"c:\\Users\\ahmed\\AppData\\Local\\Programs\\Python\\Python310\\lib\\site-packages\\keras\\engine\\training.py\", line 1082, in compute_loss\n        return self.compiled_loss(\n    File \"c:\\Users\\ahmed\\AppData\\Local\\Programs\\Python\\Python310\\lib\\site-packages\\keras\\engine\\compile_utils.py\", line 265, in __call__\n        loss_value = loss_obj(y_t, y_p, sample_weight=sw)\n    File \"c:\\Users\\ahmed\\AppData\\Local\\Programs\\Python\\Python310\\lib\\site-packages\\keras\\losses.py\", line 152, in __call__\n        losses = call_fn(y_true, y_pred)\n    File \"c:\\Users\\ahmed\\AppData\\Local\\Programs\\Python\\Python310\\lib\\site-packages\\keras\\losses.py\", line 284, in call  **\n        return ag_fn(y_true, y_pred, **self._fn_kwargs)\n    File \"c:\\Users\\ahmed\\AppData\\Local\\Programs\\Python\\Python310\\lib\\site-packages\\keras\\losses.py\", line 1949, in log_cosh\n        return backend.mean(_logcosh(y_pred - y_true), axis=-1)\n\n    ValueError: Dimensions must be equal, but are 42 and 75 for '{{node log_cosh/sub}} = Sub[T=DT_FLOAT](model/dense/BiasAdd, IteratorGetNext:1)' with input shapes: [?,42,1], [?,75,42].\n"
     ]
    }
   ],
   "source": [
    "# training\n",
    "model.fit(  X_train, y_train,\n",
    "            epochs=100,\n",
    "            # callbacks=[rlr,checkpointer,csv_logger],\n",
    "            batch_size=32)"
   ]
  },
  {
   "cell_type": "code",
   "execution_count": 39,
   "metadata": {},
   "outputs": [
    {
     "data": {
      "text/plain": [
       "(1824, 75, 42)"
      ]
     },
     "execution_count": 39,
     "metadata": {},
     "output_type": "execute_result"
    }
   ],
   "source": [
    "X_train.shape"
   ]
  },
  {
   "cell_type": "code",
   "execution_count": 40,
   "metadata": {},
   "outputs": [
    {
     "ename": "AttributeError",
     "evalue": "'TCNAE' object has no attribute 'summary'",
     "output_type": "error",
     "traceback": [
      "\u001b[1;31m---------------------------------------------------------------------------\u001b[0m",
      "\u001b[1;31mAttributeError\u001b[0m                            Traceback (most recent call last)",
      "Cell \u001b[1;32mIn[40], line 1\u001b[0m\n\u001b[1;32m----> 1\u001b[0m \u001b[43mmodel\u001b[49m\u001b[38;5;241;43m.\u001b[39;49m\u001b[43msummary\u001b[49m\n",
      "\u001b[1;31mAttributeError\u001b[0m: 'TCNAE' object has no attribute 'summary'"
     ]
    }
   ],
   "source": [
    "model.summary"
   ]
  },
  {
   "cell_type": "code",
   "execution_count": null,
   "metadata": {},
   "outputs": [],
   "source": []
  }
 ],
 "metadata": {
  "kernelspec": {
   "display_name": "Python 3.10.2 64-bit",
   "language": "python",
   "name": "python3"
  },
  "language_info": {
   "codemirror_mode": {
    "name": "ipython",
    "version": 3
   },
   "file_extension": ".py",
   "mimetype": "text/x-python",
   "name": "python",
   "nbconvert_exporter": "python",
   "pygments_lexer": "ipython3",
   "version": "3.10.2"
  },
  "orig_nbformat": 4,
  "vscode": {
   "interpreter": {
    "hash": "0cad00d5a13a3f60cb6d0dee52753d434f6ef86636012a882082aa2fea66afa5"
   }
  }
 },
 "nbformat": 4,
 "nbformat_minor": 2
}
